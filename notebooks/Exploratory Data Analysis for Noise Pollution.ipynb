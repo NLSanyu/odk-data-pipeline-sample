{
 "cells": [
  {
   "source": [
    "## Exploratory Data Analysis on Phone-collected Noise Pollution Data"
   ],
   "cell_type": "markdown",
   "metadata": {}
  },
  {
   "cell_type": "code",
   "execution_count": 69,
   "metadata": {},
   "outputs": [],
   "source": [
    "import pandas as pd\n",
    "import seaborn as sns"
   ]
  },
  {
   "cell_type": "code",
   "execution_count": 55,
   "metadata": {},
   "outputs": [
    {
     "output_type": "execute_result",
     "data": {
      "text/plain": [
       "             SubmissionDate                            meta-instanceID  \\\n",
       "0  2021-05-28T10:44:51.279Z  uuid:56329827-f210-4cbe-a411-a802d930cef6   \n",
       "1  2021-05-28T09:32:22.838Z  uuid:71130ff8-876a-4ae5-b566-729d03386bc8   \n",
       "2  2021-05-28T09:30:52.241Z  uuid:4b8f18f3-f744-4d7a-aaef-3d2f4571a5ab   \n",
       "3  2021-05-28T09:29:25.503Z  uuid:1e8f0ccb-11da-4ff7-8579-72467093abb7   \n",
       "4  2021-05-28T09:28:54.524Z  uuid:1335d0e5-6d31-4e4a-b8ff-69d16320a5fe   \n",
       "\n",
       "         Noise-audio Noise-Noise_Measurement Noise-Noise_Source  \\\n",
       "0  1622125909391.wav                      63                 10   \n",
       "1  1622125883864.wav                      59                 10   \n",
       "2  1622125859350.wav                      59                 10   \n",
       "3  1622125834260.wav                      72                 10   \n",
       "4  1622125810229.wav                      69                 10   \n",
       "\n",
       "  Noise-Noise_Source_2 Noise-Noise_Source_3  Noise-Location-Latitude  \\\n",
       "0                  NaN                  NaN                 0.522326   \n",
       "1                  NaN                  NaN                 0.521330   \n",
       "2                  NaN                  NaN                 0.521412   \n",
       "3                  NaN                  NaN                 0.521199   \n",
       "4                  NaN                  NaN                 0.521355   \n",
       "\n",
       "   Noise-Location-Longitude  Noise-Location-Altitude  Noise-Location-Accuracy  \\\n",
       "0                 32.624110              1141.518879                  184.385   \n",
       "1                 32.629754              1121.944560                    3.900   \n",
       "2                 32.630024              1120.129591                    3.900   \n",
       "3                 32.629706              1063.785425                   15.000   \n",
       "4                 32.629828              1120.042674                    3.900   \n",
       "\n",
       "  Noise-Comment                                        KEY  SubmitterID  \\\n",
       "0           NaN  uuid:56329827-f210-4cbe-a411-a802d930cef6           39   \n",
       "1           NaN  uuid:71130ff8-876a-4ae5-b566-729d03386bc8           39   \n",
       "2           NaN  uuid:4b8f18f3-f744-4d7a-aaef-3d2f4571a5ab           39   \n",
       "3           NaN  uuid:1e8f0ccb-11da-4ff7-8579-72467093abb7           39   \n",
       "4           NaN  uuid:1335d0e5-6d31-4e4a-b8ff-69d16320a5fe           39   \n",
       "\n",
       "  SubmitterName  AttachmentsPresent  AttachmentsExpected  Status  \n",
       "0         njoan                   1                    1     NaN  \n",
       "1         njoan                   1                    1     NaN  \n",
       "2         njoan                   1                    1     NaN  \n",
       "3         njoan                   1                    1     NaN  \n",
       "4         njoan                   1                    1     NaN  "
      ],
      "text/html": "<div>\n<style scoped>\n    .dataframe tbody tr th:only-of-type {\n        vertical-align: middle;\n    }\n\n    .dataframe tbody tr th {\n        vertical-align: top;\n    }\n\n    .dataframe thead th {\n        text-align: right;\n    }\n</style>\n<table border=\"1\" class=\"dataframe\">\n  <thead>\n    <tr style=\"text-align: right;\">\n      <th></th>\n      <th>SubmissionDate</th>\n      <th>meta-instanceID</th>\n      <th>Noise-audio</th>\n      <th>Noise-Noise_Measurement</th>\n      <th>Noise-Noise_Source</th>\n      <th>Noise-Noise_Source_2</th>\n      <th>Noise-Noise_Source_3</th>\n      <th>Noise-Location-Latitude</th>\n      <th>Noise-Location-Longitude</th>\n      <th>Noise-Location-Altitude</th>\n      <th>Noise-Location-Accuracy</th>\n      <th>Noise-Comment</th>\n      <th>KEY</th>\n      <th>SubmitterID</th>\n      <th>SubmitterName</th>\n      <th>AttachmentsPresent</th>\n      <th>AttachmentsExpected</th>\n      <th>Status</th>\n    </tr>\n  </thead>\n  <tbody>\n    <tr>\n      <th>0</th>\n      <td>2021-05-28T10:44:51.279Z</td>\n      <td>uuid:56329827-f210-4cbe-a411-a802d930cef6</td>\n      <td>1622125909391.wav</td>\n      <td>63</td>\n      <td>10</td>\n      <td>NaN</td>\n      <td>NaN</td>\n      <td>0.522326</td>\n      <td>32.624110</td>\n      <td>1141.518879</td>\n      <td>184.385</td>\n      <td>NaN</td>\n      <td>uuid:56329827-f210-4cbe-a411-a802d930cef6</td>\n      <td>39</td>\n      <td>njoan</td>\n      <td>1</td>\n      <td>1</td>\n      <td>NaN</td>\n    </tr>\n    <tr>\n      <th>1</th>\n      <td>2021-05-28T09:32:22.838Z</td>\n      <td>uuid:71130ff8-876a-4ae5-b566-729d03386bc8</td>\n      <td>1622125883864.wav</td>\n      <td>59</td>\n      <td>10</td>\n      <td>NaN</td>\n      <td>NaN</td>\n      <td>0.521330</td>\n      <td>32.629754</td>\n      <td>1121.944560</td>\n      <td>3.900</td>\n      <td>NaN</td>\n      <td>uuid:71130ff8-876a-4ae5-b566-729d03386bc8</td>\n      <td>39</td>\n      <td>njoan</td>\n      <td>1</td>\n      <td>1</td>\n      <td>NaN</td>\n    </tr>\n    <tr>\n      <th>2</th>\n      <td>2021-05-28T09:30:52.241Z</td>\n      <td>uuid:4b8f18f3-f744-4d7a-aaef-3d2f4571a5ab</td>\n      <td>1622125859350.wav</td>\n      <td>59</td>\n      <td>10</td>\n      <td>NaN</td>\n      <td>NaN</td>\n      <td>0.521412</td>\n      <td>32.630024</td>\n      <td>1120.129591</td>\n      <td>3.900</td>\n      <td>NaN</td>\n      <td>uuid:4b8f18f3-f744-4d7a-aaef-3d2f4571a5ab</td>\n      <td>39</td>\n      <td>njoan</td>\n      <td>1</td>\n      <td>1</td>\n      <td>NaN</td>\n    </tr>\n    <tr>\n      <th>3</th>\n      <td>2021-05-28T09:29:25.503Z</td>\n      <td>uuid:1e8f0ccb-11da-4ff7-8579-72467093abb7</td>\n      <td>1622125834260.wav</td>\n      <td>72</td>\n      <td>10</td>\n      <td>NaN</td>\n      <td>NaN</td>\n      <td>0.521199</td>\n      <td>32.629706</td>\n      <td>1063.785425</td>\n      <td>15.000</td>\n      <td>NaN</td>\n      <td>uuid:1e8f0ccb-11da-4ff7-8579-72467093abb7</td>\n      <td>39</td>\n      <td>njoan</td>\n      <td>1</td>\n      <td>1</td>\n      <td>NaN</td>\n    </tr>\n    <tr>\n      <th>4</th>\n      <td>2021-05-28T09:28:54.524Z</td>\n      <td>uuid:1335d0e5-6d31-4e4a-b8ff-69d16320a5fe</td>\n      <td>1622125810229.wav</td>\n      <td>69</td>\n      <td>10</td>\n      <td>NaN</td>\n      <td>NaN</td>\n      <td>0.521355</td>\n      <td>32.629828</td>\n      <td>1120.042674</td>\n      <td>3.900</td>\n      <td>NaN</td>\n      <td>uuid:1335d0e5-6d31-4e4a-b8ff-69d16320a5fe</td>\n      <td>39</td>\n      <td>njoan</td>\n      <td>1</td>\n      <td>1</td>\n      <td>NaN</td>\n    </tr>\n  </tbody>\n</table>\n</div>"
     },
     "metadata": {},
     "execution_count": 55
    }
   ],
   "source": [
    "noise_data = pd.read_csv(\"../build_Noise-Capture-Form_1614927724.csv\")\n",
    "noise_data.head()"
   ]
  },
  {
   "cell_type": "code",
   "execution_count": 57,
   "metadata": {},
   "outputs": [
    {
     "output_type": "execute_result",
     "data": {
      "text/plain": [
       "SubmissionDate               object\n",
       "meta-instanceID              object\n",
       "Noise-audio                  object\n",
       "Noise-Noise_Measurement      object\n",
       "Noise-Noise_Source           object\n",
       "Noise-Noise_Source_2         object\n",
       "Noise-Noise_Source_3         object\n",
       "Noise-Location-Latitude     float64\n",
       "Noise-Location-Longitude    float64\n",
       "Noise-Location-Altitude     float64\n",
       "Noise-Location-Accuracy     float64\n",
       "Noise-Comment                object\n",
       "KEY                          object\n",
       "SubmitterID                   int64\n",
       "SubmitterName                object\n",
       "AttachmentsPresent            int64\n",
       "AttachmentsExpected           int64\n",
       "Status                      float64\n",
       "dtype: object"
      ]
     },
     "metadata": {},
     "execution_count": 57
    }
   ],
   "source": [
    "noise_data.dtypes"
   ]
  },
  {
   "source": [
    "#### Rename columns for easier querying"
   ],
   "cell_type": "markdown",
   "metadata": {}
  },
  {
   "cell_type": "code",
   "execution_count": 60,
   "metadata": {},
   "outputs": [
    {
     "output_type": "execute_result",
     "data": {
      "text/plain": [
       "             SubmissionDate                            meta-instanceID  \\\n",
       "0  2021-05-28T10:44:51.279Z  uuid:56329827-f210-4cbe-a411-a802d930cef6   \n",
       "1  2021-05-28T09:32:22.838Z  uuid:71130ff8-876a-4ae5-b566-729d03386bc8   \n",
       "2  2021-05-28T09:30:52.241Z  uuid:4b8f18f3-f744-4d7a-aaef-3d2f4571a5ab   \n",
       "3  2021-05-28T09:29:25.503Z  uuid:1e8f0ccb-11da-4ff7-8579-72467093abb7   \n",
       "4  2021-05-28T09:28:54.524Z  uuid:1335d0e5-6d31-4e4a-b8ff-69d16320a5fe   \n",
       "\n",
       "         Noise-audio Noise-Noise_Measurement Noise_Category  \\\n",
       "0  1622125909391.wav                      63             10   \n",
       "1  1622125883864.wav                      59             10   \n",
       "2  1622125859350.wav                      59             10   \n",
       "3  1622125834260.wav                      72             10   \n",
       "4  1622125810229.wav                      69             10   \n",
       "\n",
       "  Noise-Noise_Source_2 Noise-Noise_Source_3  Noise-Location-Latitude  \\\n",
       "0                  NaN                  NaN                 0.522326   \n",
       "1                  NaN                  NaN                 0.521330   \n",
       "2                  NaN                  NaN                 0.521412   \n",
       "3                  NaN                  NaN                 0.521199   \n",
       "4                  NaN                  NaN                 0.521355   \n",
       "\n",
       "   Noise-Location-Longitude  Noise-Location-Altitude  Noise-Location-Accuracy  \\\n",
       "0                 32.624110              1141.518879                  184.385   \n",
       "1                 32.629754              1121.944560                    3.900   \n",
       "2                 32.630024              1120.129591                    3.900   \n",
       "3                 32.629706              1063.785425                   15.000   \n",
       "4                 32.629828              1120.042674                    3.900   \n",
       "\n",
       "  Noise-Comment                                        KEY  SubmitterID  \\\n",
       "0           NaN  uuid:56329827-f210-4cbe-a411-a802d930cef6           39   \n",
       "1           NaN  uuid:71130ff8-876a-4ae5-b566-729d03386bc8           39   \n",
       "2           NaN  uuid:4b8f18f3-f744-4d7a-aaef-3d2f4571a5ab           39   \n",
       "3           NaN  uuid:1e8f0ccb-11da-4ff7-8579-72467093abb7           39   \n",
       "4           NaN  uuid:1335d0e5-6d31-4e4a-b8ff-69d16320a5fe           39   \n",
       "\n",
       "  SubmitterName  AttachmentsPresent  AttachmentsExpected  Status  \n",
       "0         njoan                   1                    1     NaN  \n",
       "1         njoan                   1                    1     NaN  \n",
       "2         njoan                   1                    1     NaN  \n",
       "3         njoan                   1                    1     NaN  \n",
       "4         njoan                   1                    1     NaN  "
      ],
      "text/html": "<div>\n<style scoped>\n    .dataframe tbody tr th:only-of-type {\n        vertical-align: middle;\n    }\n\n    .dataframe tbody tr th {\n        vertical-align: top;\n    }\n\n    .dataframe thead th {\n        text-align: right;\n    }\n</style>\n<table border=\"1\" class=\"dataframe\">\n  <thead>\n    <tr style=\"text-align: right;\">\n      <th></th>\n      <th>SubmissionDate</th>\n      <th>meta-instanceID</th>\n      <th>Noise-audio</th>\n      <th>Noise-Noise_Measurement</th>\n      <th>Noise_Category</th>\n      <th>Noise-Noise_Source_2</th>\n      <th>Noise-Noise_Source_3</th>\n      <th>Noise-Location-Latitude</th>\n      <th>Noise-Location-Longitude</th>\n      <th>Noise-Location-Altitude</th>\n      <th>Noise-Location-Accuracy</th>\n      <th>Noise-Comment</th>\n      <th>KEY</th>\n      <th>SubmitterID</th>\n      <th>SubmitterName</th>\n      <th>AttachmentsPresent</th>\n      <th>AttachmentsExpected</th>\n      <th>Status</th>\n    </tr>\n  </thead>\n  <tbody>\n    <tr>\n      <th>0</th>\n      <td>2021-05-28T10:44:51.279Z</td>\n      <td>uuid:56329827-f210-4cbe-a411-a802d930cef6</td>\n      <td>1622125909391.wav</td>\n      <td>63</td>\n      <td>10</td>\n      <td>NaN</td>\n      <td>NaN</td>\n      <td>0.522326</td>\n      <td>32.624110</td>\n      <td>1141.518879</td>\n      <td>184.385</td>\n      <td>NaN</td>\n      <td>uuid:56329827-f210-4cbe-a411-a802d930cef6</td>\n      <td>39</td>\n      <td>njoan</td>\n      <td>1</td>\n      <td>1</td>\n      <td>NaN</td>\n    </tr>\n    <tr>\n      <th>1</th>\n      <td>2021-05-28T09:32:22.838Z</td>\n      <td>uuid:71130ff8-876a-4ae5-b566-729d03386bc8</td>\n      <td>1622125883864.wav</td>\n      <td>59</td>\n      <td>10</td>\n      <td>NaN</td>\n      <td>NaN</td>\n      <td>0.521330</td>\n      <td>32.629754</td>\n      <td>1121.944560</td>\n      <td>3.900</td>\n      <td>NaN</td>\n      <td>uuid:71130ff8-876a-4ae5-b566-729d03386bc8</td>\n      <td>39</td>\n      <td>njoan</td>\n      <td>1</td>\n      <td>1</td>\n      <td>NaN</td>\n    </tr>\n    <tr>\n      <th>2</th>\n      <td>2021-05-28T09:30:52.241Z</td>\n      <td>uuid:4b8f18f3-f744-4d7a-aaef-3d2f4571a5ab</td>\n      <td>1622125859350.wav</td>\n      <td>59</td>\n      <td>10</td>\n      <td>NaN</td>\n      <td>NaN</td>\n      <td>0.521412</td>\n      <td>32.630024</td>\n      <td>1120.129591</td>\n      <td>3.900</td>\n      <td>NaN</td>\n      <td>uuid:4b8f18f3-f744-4d7a-aaef-3d2f4571a5ab</td>\n      <td>39</td>\n      <td>njoan</td>\n      <td>1</td>\n      <td>1</td>\n      <td>NaN</td>\n    </tr>\n    <tr>\n      <th>3</th>\n      <td>2021-05-28T09:29:25.503Z</td>\n      <td>uuid:1e8f0ccb-11da-4ff7-8579-72467093abb7</td>\n      <td>1622125834260.wav</td>\n      <td>72</td>\n      <td>10</td>\n      <td>NaN</td>\n      <td>NaN</td>\n      <td>0.521199</td>\n      <td>32.629706</td>\n      <td>1063.785425</td>\n      <td>15.000</td>\n      <td>NaN</td>\n      <td>uuid:1e8f0ccb-11da-4ff7-8579-72467093abb7</td>\n      <td>39</td>\n      <td>njoan</td>\n      <td>1</td>\n      <td>1</td>\n      <td>NaN</td>\n    </tr>\n    <tr>\n      <th>4</th>\n      <td>2021-05-28T09:28:54.524Z</td>\n      <td>uuid:1335d0e5-6d31-4e4a-b8ff-69d16320a5fe</td>\n      <td>1622125810229.wav</td>\n      <td>69</td>\n      <td>10</td>\n      <td>NaN</td>\n      <td>NaN</td>\n      <td>0.521355</td>\n      <td>32.629828</td>\n      <td>1120.042674</td>\n      <td>3.900</td>\n      <td>NaN</td>\n      <td>uuid:1335d0e5-6d31-4e4a-b8ff-69d16320a5fe</td>\n      <td>39</td>\n      <td>njoan</td>\n      <td>1</td>\n      <td>1</td>\n      <td>NaN</td>\n    </tr>\n  </tbody>\n</table>\n</div>"
     },
     "metadata": {},
     "execution_count": 60
    }
   ],
   "source": [
    "new_col_names = {\"Noise-Noise_Source\": \"Noise_Category\"}\n",
    "noise_data.rename(columns=new_col_names, inplace=True)\n",
    "noise_data.head()"
   ]
  },
  {
   "cell_type": "code",
   "execution_count": 62,
   "metadata": {},
   "outputs": [],
   "source": [
    "noise_data = noise_data[~noise_data[\"Noise_Category\"].isin([\"Mobile-music\", \"Other\", \"car-OR-truck\"])]"
   ]
  },
  {
   "cell_type": "code",
   "execution_count": 63,
   "metadata": {},
   "outputs": [
    {
     "output_type": "execute_result",
     "data": {
      "text/plain": [
       "SubmissionDate               object\n",
       "meta-instanceID              object\n",
       "Noise-audio                  object\n",
       "Noise-Noise_Measurement      object\n",
       "Noise_Category                int64\n",
       "Noise-Noise_Source_2         object\n",
       "Noise-Noise_Source_3         object\n",
       "Noise-Location-Latitude     float64\n",
       "Noise-Location-Longitude    float64\n",
       "Noise-Location-Altitude     float64\n",
       "Noise-Location-Accuracy     float64\n",
       "Noise-Comment                object\n",
       "KEY                          object\n",
       "SubmitterID                   int64\n",
       "SubmitterName                object\n",
       "AttachmentsPresent            int64\n",
       "AttachmentsExpected           int64\n",
       "Status                      float64\n",
       "dtype: object"
      ]
     },
     "metadata": {},
     "execution_count": 63
    }
   ],
   "source": [
    "noise_data[\"Noise_Category\"] = noise_data[\"Noise_Category\"].astype(\"int64\")\n",
    "noise_data.dtypes"
   ]
  },
  {
   "cell_type": "code",
   "execution_count": 67,
   "metadata": {},
   "outputs": [
    {
     "output_type": "execute_result",
     "data": {
      "text/plain": [
       "                SubmissionDate  meta-instanceID  Noise-audio  \\\n",
       "Noise_Category                                                 \n",
       "1                         1841             1841         1841   \n",
       "2                         1854             1854         1854   \n",
       "3                         1552             1552         1552   \n",
       "4                         3368             3368         3368   \n",
       "5                         1304             1304         1304   \n",
       "6                         1467             1467         1467   \n",
       "7                         1674             1674         1674   \n",
       "8                         2164             2164         2164   \n",
       "9                         2550             2550         2550   \n",
       "10                        1923             1923         1923   \n",
       "11                        2140             2140         2140   \n",
       "12                        2488             2488         2488   \n",
       "13                        2098             2098         2098   \n",
       "14                        2029             2029         2029   \n",
       "15                        2352             2352         2352   \n",
       "16                        1704             1704         1704   \n",
       "17                        2356             2356         2356   \n",
       "18                        1992             1992         1992   \n",
       "19                        1199             1199         1199   \n",
       "\n",
       "                Noise-Noise_Measurement  Noise-Noise_Source_2  \\\n",
       "Noise_Category                                                  \n",
       "1                                  1828                  1553   \n",
       "2                                  1841                   259   \n",
       "3                                  1548                   853   \n",
       "4                                  3338                    75   \n",
       "5                                  1296                    38   \n",
       "6                                  1463                    43   \n",
       "7                                  1666                   112   \n",
       "8                                  2161                   165   \n",
       "9                                  2545                    49   \n",
       "10                                 1917                    71   \n",
       "11                                 2138                    98   \n",
       "12                                 2477                   254   \n",
       "13                                 2090                   116   \n",
       "14                                 2020                    38   \n",
       "15                                 2346                   113   \n",
       "16                                 1693                    87   \n",
       "17                                 2355                    47   \n",
       "18                                 1989                   143   \n",
       "19                                 1189                   102   \n",
       "\n",
       "                Noise-Noise_Source_3  Noise-Location-Latitude  \\\n",
       "Noise_Category                                                  \n",
       "1                               1051                     1841   \n",
       "2                                 68                     1854   \n",
       "3                                399                     1552   \n",
       "4                                 24                     3368   \n",
       "5                                  4                     1304   \n",
       "6                                 17                     1467   \n",
       "7                                 53                     1674   \n",
       "8                                 26                     2164   \n",
       "9                                 21                     2550   \n",
       "10                                23                     1923   \n",
       "11                                28                     2140   \n",
       "12                                47                     2488   \n",
       "13                                25                     2098   \n",
       "14                                 9                     2029   \n",
       "15                                 8                     2352   \n",
       "16                                25                     1704   \n",
       "17                                 2                     2356   \n",
       "18                                28                     1992   \n",
       "19                                62                     1199   \n",
       "\n",
       "                Noise-Location-Longitude  Noise-Location-Altitude  \\\n",
       "Noise_Category                                                      \n",
       "1                                   1841                     1841   \n",
       "2                                   1854                     1854   \n",
       "3                                   1552                     1552   \n",
       "4                                   3368                     3368   \n",
       "5                                   1304                     1304   \n",
       "6                                   1467                     1467   \n",
       "7                                   1674                     1674   \n",
       "8                                   2164                     2164   \n",
       "9                                   2550                     2550   \n",
       "10                                  1923                     1923   \n",
       "11                                  2140                     2140   \n",
       "12                                  2488                     2488   \n",
       "13                                  2098                     2098   \n",
       "14                                  2029                     2029   \n",
       "15                                  2352                     2352   \n",
       "16                                  1704                     1704   \n",
       "17                                  2356                     2356   \n",
       "18                                  1992                     1992   \n",
       "19                                  1199                     1199   \n",
       "\n",
       "                Noise-Location-Accuracy  Noise-Comment   KEY  SubmitterID  \\\n",
       "Noise_Category                                                              \n",
       "1                                  1841              8  1841         1841   \n",
       "2                                  1854              0  1854         1854   \n",
       "3                                  1552              9  1552         1552   \n",
       "4                                  3368              0  3368         3368   \n",
       "5                                  1304              0  1304         1304   \n",
       "6                                  1467              0  1467         1467   \n",
       "7                                  1674              0  1674         1674   \n",
       "8                                  2164              0  2164         2164   \n",
       "9                                  2550              5  2550         2550   \n",
       "10                                 1923              3  1923         1923   \n",
       "11                                 2140              1  2140         2140   \n",
       "12                                 2488             29  2488         2488   \n",
       "13                                 2098              3  2098         2098   \n",
       "14                                 2029              2  2029         2029   \n",
       "15                                 2352              1  2352         2352   \n",
       "16                                 1704              0  1704         1704   \n",
       "17                                 2356              9  2356         2356   \n",
       "18                                 1992              0  1992         1992   \n",
       "19                                 1199            973  1199         1199   \n",
       "\n",
       "                SubmitterName  AttachmentsPresent  AttachmentsExpected  Status  \n",
       "Noise_Category                                                                  \n",
       "1                        1841                1841                 1841       0  \n",
       "2                        1854                1854                 1854       0  \n",
       "3                        1552                1552                 1552       0  \n",
       "4                        3368                3368                 3368       0  \n",
       "5                        1304                1304                 1304       0  \n",
       "6                        1467                1467                 1467       0  \n",
       "7                        1674                1674                 1674       0  \n",
       "8                        2164                2164                 2164       0  \n",
       "9                        2550                2550                 2550       0  \n",
       "10                       1923                1923                 1923       0  \n",
       "11                       2140                2140                 2140       0  \n",
       "12                       2488                2488                 2488       0  \n",
       "13                       2098                2098                 2098       0  \n",
       "14                       2029                2029                 2029       0  \n",
       "15                       2352                2352                 2352       0  \n",
       "16                       1704                1704                 1704       0  \n",
       "17                       2356                2356                 2356       0  \n",
       "18                       1992                1992                 1992       0  \n",
       "19                       1199                1199                 1199       0  "
      ],
      "text/html": "<div>\n<style scoped>\n    .dataframe tbody tr th:only-of-type {\n        vertical-align: middle;\n    }\n\n    .dataframe tbody tr th {\n        vertical-align: top;\n    }\n\n    .dataframe thead th {\n        text-align: right;\n    }\n</style>\n<table border=\"1\" class=\"dataframe\">\n  <thead>\n    <tr style=\"text-align: right;\">\n      <th></th>\n      <th>SubmissionDate</th>\n      <th>meta-instanceID</th>\n      <th>Noise-audio</th>\n      <th>Noise-Noise_Measurement</th>\n      <th>Noise-Noise_Source_2</th>\n      <th>Noise-Noise_Source_3</th>\n      <th>Noise-Location-Latitude</th>\n      <th>Noise-Location-Longitude</th>\n      <th>Noise-Location-Altitude</th>\n      <th>Noise-Location-Accuracy</th>\n      <th>Noise-Comment</th>\n      <th>KEY</th>\n      <th>SubmitterID</th>\n      <th>SubmitterName</th>\n      <th>AttachmentsPresent</th>\n      <th>AttachmentsExpected</th>\n      <th>Status</th>\n    </tr>\n    <tr>\n      <th>Noise_Category</th>\n      <th></th>\n      <th></th>\n      <th></th>\n      <th></th>\n      <th></th>\n      <th></th>\n      <th></th>\n      <th></th>\n      <th></th>\n      <th></th>\n      <th></th>\n      <th></th>\n      <th></th>\n      <th></th>\n      <th></th>\n      <th></th>\n      <th></th>\n    </tr>\n  </thead>\n  <tbody>\n    <tr>\n      <th>1</th>\n      <td>1841</td>\n      <td>1841</td>\n      <td>1841</td>\n      <td>1828</td>\n      <td>1553</td>\n      <td>1051</td>\n      <td>1841</td>\n      <td>1841</td>\n      <td>1841</td>\n      <td>1841</td>\n      <td>8</td>\n      <td>1841</td>\n      <td>1841</td>\n      <td>1841</td>\n      <td>1841</td>\n      <td>1841</td>\n      <td>0</td>\n    </tr>\n    <tr>\n      <th>2</th>\n      <td>1854</td>\n      <td>1854</td>\n      <td>1854</td>\n      <td>1841</td>\n      <td>259</td>\n      <td>68</td>\n      <td>1854</td>\n      <td>1854</td>\n      <td>1854</td>\n      <td>1854</td>\n      <td>0</td>\n      <td>1854</td>\n      <td>1854</td>\n      <td>1854</td>\n      <td>1854</td>\n      <td>1854</td>\n      <td>0</td>\n    </tr>\n    <tr>\n      <th>3</th>\n      <td>1552</td>\n      <td>1552</td>\n      <td>1552</td>\n      <td>1548</td>\n      <td>853</td>\n      <td>399</td>\n      <td>1552</td>\n      <td>1552</td>\n      <td>1552</td>\n      <td>1552</td>\n      <td>9</td>\n      <td>1552</td>\n      <td>1552</td>\n      <td>1552</td>\n      <td>1552</td>\n      <td>1552</td>\n      <td>0</td>\n    </tr>\n    <tr>\n      <th>4</th>\n      <td>3368</td>\n      <td>3368</td>\n      <td>3368</td>\n      <td>3338</td>\n      <td>75</td>\n      <td>24</td>\n      <td>3368</td>\n      <td>3368</td>\n      <td>3368</td>\n      <td>3368</td>\n      <td>0</td>\n      <td>3368</td>\n      <td>3368</td>\n      <td>3368</td>\n      <td>3368</td>\n      <td>3368</td>\n      <td>0</td>\n    </tr>\n    <tr>\n      <th>5</th>\n      <td>1304</td>\n      <td>1304</td>\n      <td>1304</td>\n      <td>1296</td>\n      <td>38</td>\n      <td>4</td>\n      <td>1304</td>\n      <td>1304</td>\n      <td>1304</td>\n      <td>1304</td>\n      <td>0</td>\n      <td>1304</td>\n      <td>1304</td>\n      <td>1304</td>\n      <td>1304</td>\n      <td>1304</td>\n      <td>0</td>\n    </tr>\n    <tr>\n      <th>6</th>\n      <td>1467</td>\n      <td>1467</td>\n      <td>1467</td>\n      <td>1463</td>\n      <td>43</td>\n      <td>17</td>\n      <td>1467</td>\n      <td>1467</td>\n      <td>1467</td>\n      <td>1467</td>\n      <td>0</td>\n      <td>1467</td>\n      <td>1467</td>\n      <td>1467</td>\n      <td>1467</td>\n      <td>1467</td>\n      <td>0</td>\n    </tr>\n    <tr>\n      <th>7</th>\n      <td>1674</td>\n      <td>1674</td>\n      <td>1674</td>\n      <td>1666</td>\n      <td>112</td>\n      <td>53</td>\n      <td>1674</td>\n      <td>1674</td>\n      <td>1674</td>\n      <td>1674</td>\n      <td>0</td>\n      <td>1674</td>\n      <td>1674</td>\n      <td>1674</td>\n      <td>1674</td>\n      <td>1674</td>\n      <td>0</td>\n    </tr>\n    <tr>\n      <th>8</th>\n      <td>2164</td>\n      <td>2164</td>\n      <td>2164</td>\n      <td>2161</td>\n      <td>165</td>\n      <td>26</td>\n      <td>2164</td>\n      <td>2164</td>\n      <td>2164</td>\n      <td>2164</td>\n      <td>0</td>\n      <td>2164</td>\n      <td>2164</td>\n      <td>2164</td>\n      <td>2164</td>\n      <td>2164</td>\n      <td>0</td>\n    </tr>\n    <tr>\n      <th>9</th>\n      <td>2550</td>\n      <td>2550</td>\n      <td>2550</td>\n      <td>2545</td>\n      <td>49</td>\n      <td>21</td>\n      <td>2550</td>\n      <td>2550</td>\n      <td>2550</td>\n      <td>2550</td>\n      <td>5</td>\n      <td>2550</td>\n      <td>2550</td>\n      <td>2550</td>\n      <td>2550</td>\n      <td>2550</td>\n      <td>0</td>\n    </tr>\n    <tr>\n      <th>10</th>\n      <td>1923</td>\n      <td>1923</td>\n      <td>1923</td>\n      <td>1917</td>\n      <td>71</td>\n      <td>23</td>\n      <td>1923</td>\n      <td>1923</td>\n      <td>1923</td>\n      <td>1923</td>\n      <td>3</td>\n      <td>1923</td>\n      <td>1923</td>\n      <td>1923</td>\n      <td>1923</td>\n      <td>1923</td>\n      <td>0</td>\n    </tr>\n    <tr>\n      <th>11</th>\n      <td>2140</td>\n      <td>2140</td>\n      <td>2140</td>\n      <td>2138</td>\n      <td>98</td>\n      <td>28</td>\n      <td>2140</td>\n      <td>2140</td>\n      <td>2140</td>\n      <td>2140</td>\n      <td>1</td>\n      <td>2140</td>\n      <td>2140</td>\n      <td>2140</td>\n      <td>2140</td>\n      <td>2140</td>\n      <td>0</td>\n    </tr>\n    <tr>\n      <th>12</th>\n      <td>2488</td>\n      <td>2488</td>\n      <td>2488</td>\n      <td>2477</td>\n      <td>254</td>\n      <td>47</td>\n      <td>2488</td>\n      <td>2488</td>\n      <td>2488</td>\n      <td>2488</td>\n      <td>29</td>\n      <td>2488</td>\n      <td>2488</td>\n      <td>2488</td>\n      <td>2488</td>\n      <td>2488</td>\n      <td>0</td>\n    </tr>\n    <tr>\n      <th>13</th>\n      <td>2098</td>\n      <td>2098</td>\n      <td>2098</td>\n      <td>2090</td>\n      <td>116</td>\n      <td>25</td>\n      <td>2098</td>\n      <td>2098</td>\n      <td>2098</td>\n      <td>2098</td>\n      <td>3</td>\n      <td>2098</td>\n      <td>2098</td>\n      <td>2098</td>\n      <td>2098</td>\n      <td>2098</td>\n      <td>0</td>\n    </tr>\n    <tr>\n      <th>14</th>\n      <td>2029</td>\n      <td>2029</td>\n      <td>2029</td>\n      <td>2020</td>\n      <td>38</td>\n      <td>9</td>\n      <td>2029</td>\n      <td>2029</td>\n      <td>2029</td>\n      <td>2029</td>\n      <td>2</td>\n      <td>2029</td>\n      <td>2029</td>\n      <td>2029</td>\n      <td>2029</td>\n      <td>2029</td>\n      <td>0</td>\n    </tr>\n    <tr>\n      <th>15</th>\n      <td>2352</td>\n      <td>2352</td>\n      <td>2352</td>\n      <td>2346</td>\n      <td>113</td>\n      <td>8</td>\n      <td>2352</td>\n      <td>2352</td>\n      <td>2352</td>\n      <td>2352</td>\n      <td>1</td>\n      <td>2352</td>\n      <td>2352</td>\n      <td>2352</td>\n      <td>2352</td>\n      <td>2352</td>\n      <td>0</td>\n    </tr>\n    <tr>\n      <th>16</th>\n      <td>1704</td>\n      <td>1704</td>\n      <td>1704</td>\n      <td>1693</td>\n      <td>87</td>\n      <td>25</td>\n      <td>1704</td>\n      <td>1704</td>\n      <td>1704</td>\n      <td>1704</td>\n      <td>0</td>\n      <td>1704</td>\n      <td>1704</td>\n      <td>1704</td>\n      <td>1704</td>\n      <td>1704</td>\n      <td>0</td>\n    </tr>\n    <tr>\n      <th>17</th>\n      <td>2356</td>\n      <td>2356</td>\n      <td>2356</td>\n      <td>2355</td>\n      <td>47</td>\n      <td>2</td>\n      <td>2356</td>\n      <td>2356</td>\n      <td>2356</td>\n      <td>2356</td>\n      <td>9</td>\n      <td>2356</td>\n      <td>2356</td>\n      <td>2356</td>\n      <td>2356</td>\n      <td>2356</td>\n      <td>0</td>\n    </tr>\n    <tr>\n      <th>18</th>\n      <td>1992</td>\n      <td>1992</td>\n      <td>1992</td>\n      <td>1989</td>\n      <td>143</td>\n      <td>28</td>\n      <td>1992</td>\n      <td>1992</td>\n      <td>1992</td>\n      <td>1992</td>\n      <td>0</td>\n      <td>1992</td>\n      <td>1992</td>\n      <td>1992</td>\n      <td>1992</td>\n      <td>1992</td>\n      <td>0</td>\n    </tr>\n    <tr>\n      <th>19</th>\n      <td>1199</td>\n      <td>1199</td>\n      <td>1199</td>\n      <td>1189</td>\n      <td>102</td>\n      <td>62</td>\n      <td>1199</td>\n      <td>1199</td>\n      <td>1199</td>\n      <td>1199</td>\n      <td>973</td>\n      <td>1199</td>\n      <td>1199</td>\n      <td>1199</td>\n      <td>1199</td>\n      <td>1199</td>\n      <td>0</td>\n    </tr>\n  </tbody>\n</table>\n</div>"
     },
     "metadata": {},
     "execution_count": 67
    }
   ],
   "source": [
    "category_gb = noise_data.groupby(by=\"Noise_Category\").count()\n",
    "category_gb"
   ]
  },
  {
   "cell_type": "code",
   "execution_count": 70,
   "metadata": {},
   "outputs": [
    {
     "output_type": "execute_result",
     "data": {
      "text/plain": [
       "<matplotlib.axes._subplots.AxesSubplot at 0x7f9267914110>"
      ]
     },
     "metadata": {},
     "execution_count": 70
    },
    {
     "output_type": "display_data",
     "data": {
      "text/plain": "<Figure size 432x288 with 1 Axes>",
      "image/svg+xml": "<?xml version=\"1.0\" encoding=\"utf-8\" standalone=\"no\"?>\n<!DOCTYPE svg PUBLIC \"-//W3C//DTD SVG 1.1//EN\"\n  \"http://www.w3.org/Graphics/SVG/1.1/DTD/svg11.dtd\">\n<!-- Created with matplotlib (https://matplotlib.org/) -->\n<svg height=\"265.974375pt\" version=\"1.1\" viewBox=\"0 0 398.828125 265.974375\" width=\"398.828125pt\" xmlns=\"http://www.w3.org/2000/svg\" xmlns:xlink=\"http://www.w3.org/1999/xlink\">\n <defs>\n  <style type=\"text/css\">\n*{stroke-linecap:butt;stroke-linejoin:round;}\n  </style>\n </defs>\n <g id=\"figure_1\">\n  <g id=\"patch_1\">\n   <path d=\"M 0 265.974375 \nL 398.828125 265.974375 \nL 398.828125 0 \nL 0 0 \nz\n\" style=\"fill:none;\"/>\n  </g>\n  <g id=\"axes_1\">\n   <g id=\"patch_2\">\n    <path d=\"M 53.328125 228.14 \nL 388.128125 228.14 \nL 388.128125 10.7 \nL 53.328125 10.7 \nz\n\" style=\"fill:#ffffff;\"/>\n   </g>\n   <g id=\"patch_3\">\n    <path clip-path=\"url(#pb1bc7ebf93)\" d=\"M 55.09023 228.14 \nL 69.187072 228.14 \nL 69.187072 114.9438 \nL 55.09023 114.9438 \nz\n\" style=\"fill:#ea96a3;\"/>\n   </g>\n   <g id=\"patch_4\">\n    <path clip-path=\"url(#pb1bc7ebf93)\" d=\"M 72.711283 228.14 \nL 86.808125 228.14 \nL 86.808125 114.144479 \nL 72.711283 114.144479 \nz\n\" style=\"fill:#e79680;\"/>\n   </g>\n   <g id=\"patch_5\">\n    <path clip-path=\"url(#pb1bc7ebf93)\" d=\"M 90.332336 228.14 \nL 104.429178 228.14 \nL 104.429178 132.713329 \nL 90.332336 132.713329 \nz\n\" style=\"fill:#d4954d;\"/>\n   </g>\n   <g id=\"patch_6\">\n    <path clip-path=\"url(#pb1bc7ebf93)\" d=\"M 107.953388 228.14 \nL 122.05023 228.14 \nL 122.05023 21.054286 \nL 107.953388 21.054286 \nz\n\" style=\"fill:#bc9b4a;\"/>\n   </g>\n   <g id=\"patch_7\">\n    <path clip-path=\"url(#pb1bc7ebf93)\" d=\"M 125.574441 228.14 \nL 139.671283 228.14 \nL 139.671283 147.961921 \nL 125.574441 147.961921 \nz\n\" style=\"fill:#a79e46;\"/>\n   </g>\n   <g id=\"patch_8\">\n    <path clip-path=\"url(#pb1bc7ebf93)\" d=\"M 143.195493 228.14 \nL 157.292336 228.14 \nL 157.292336 137.939661 \nL 143.195493 137.939661 \nz\n\" style=\"fill:#92a446;\"/>\n   </g>\n   <g id=\"patch_9\">\n    <path clip-path=\"url(#pb1bc7ebf93)\" d=\"M 160.816546 228.14 \nL 174.913388 228.14 \nL 174.913388 125.212005 \nL 160.816546 125.212005 \nz\n\" style=\"fill:#73ab47;\"/>\n   </g>\n   <g id=\"patch_10\">\n    <path clip-path=\"url(#pb1bc7ebf93)\" d=\"M 178.437599 228.14 \nL 192.534441 228.14 \nL 192.534441 95.083739 \nL 178.437599 95.083739 \nz\n\" style=\"fill:#48af6c;\"/>\n   </g>\n   <g id=\"patch_11\">\n    <path clip-path=\"url(#pb1bc7ebf93)\" d=\"M 196.058651 228.14 \nL 210.155493 228.14 \nL 210.155493 71.350044 \nL 196.058651 71.350044 \nz\n\" style=\"fill:#4aad8c;\"/>\n   </g>\n   <g id=\"patch_12\">\n    <path clip-path=\"url(#pb1bc7ebf93)\" d=\"M 213.679704 228.14 \nL 227.776546 228.14 \nL 227.776546 109.901927 \nL 213.679704 109.901927 \nz\n\" style=\"fill:#4bac9d;\"/>\n   </g>\n   <g id=\"patch_13\">\n    <path clip-path=\"url(#pb1bc7ebf93)\" d=\"M 231.300757 228.14 \nL 245.397599 228.14 \nL 245.397599 96.55941 \nL 231.300757 96.55941 \nz\n\" style=\"fill:#4baaab;\"/>\n   </g>\n   <g id=\"patch_14\">\n    <path clip-path=\"url(#pb1bc7ebf93)\" d=\"M 248.921809 228.14 \nL 263.018651 228.14 \nL 263.018651 75.162192 \nL 248.921809 75.162192 \nz\n\" style=\"fill:#4fabbb;\"/>\n   </g>\n   <g id=\"patch_15\">\n    <path clip-path=\"url(#pb1bc7ebf93)\" d=\"M 266.542862 228.14 \nL 280.639704 228.14 \nL 280.639704 99.141832 \nL 266.542862 99.141832 \nz\n\" style=\"fill:#54acd1;\"/>\n   </g>\n   <g id=\"patch_16\">\n    <path clip-path=\"url(#pb1bc7ebf93)\" d=\"M 284.163914 228.14 \nL 298.260757 228.14 \nL 298.260757 103.384384 \nL 284.163914 103.384384 \nz\n\" style=\"fill:#84aee6;\"/>\n   </g>\n   <g id=\"patch_17\">\n    <path clip-path=\"url(#pb1bc7ebf93)\" d=\"M 301.784967 228.14 \nL 315.881809 228.14 \nL 315.881809 83.524323 \nL 301.784967 83.524323 \nz\n\" style=\"fill:#afaaeb;\"/>\n   </g>\n   <g id=\"patch_18\">\n    <path clip-path=\"url(#pb1bc7ebf93)\" d=\"M 319.40602 228.14 \nL 333.502862 228.14 \nL 333.502862 123.367418 \nL 319.40602 123.367418 \nz\n\" style=\"fill:#c99ee9;\"/>\n   </g>\n   <g id=\"patch_19\">\n    <path clip-path=\"url(#pb1bc7ebf93)\" d=\"M 337.027072 228.14 \nL 351.123914 228.14 \nL 351.123914 83.278378 \nL 337.027072 83.278378 \nz\n\" style=\"fill:#e38be7;\"/>\n   </g>\n   <g id=\"patch_20\">\n    <path clip-path=\"url(#pb1bc7ebf93)\" d=\"M 354.648125 228.14 \nL 368.744967 228.14 \nL 368.744967 105.659376 \nL 354.648125 105.659376 \nz\n\" style=\"fill:#e88ecf;\"/>\n   </g>\n   <g id=\"patch_21\">\n    <path clip-path=\"url(#pb1bc7ebf93)\" d=\"M 372.269178 228.14 \nL 386.36602 228.14 \nL 386.36602 154.417978 \nL 372.269178 154.417978 \nz\n\" style=\"fill:#e992ba;\"/>\n   </g>\n   <g id=\"matplotlib.axis_1\">\n    <g id=\"xtick_1\">\n     <g id=\"line2d_1\">\n      <defs>\n       <path d=\"M 0 0 \nL 0 3.5 \n\" id=\"me60a6e9582\" style=\"stroke:#000000;stroke-width:0.8;\"/>\n      </defs>\n      <g>\n       <use style=\"stroke:#000000;stroke-width:0.8;\" x=\"62.138651\" xlink:href=\"#me60a6e9582\" y=\"228.14\"/>\n      </g>\n     </g>\n     <g id=\"text_1\">\n      <!-- 1 -->\n      <defs>\n       <path d=\"M 12.40625 8.296875 \nL 28.515625 8.296875 \nL 28.515625 63.921875 \nL 10.984375 60.40625 \nL 10.984375 69.390625 \nL 28.421875 72.90625 \nL 38.28125 72.90625 \nL 38.28125 8.296875 \nL 54.390625 8.296875 \nL 54.390625 0 \nL 12.40625 0 \nz\n\" id=\"DejaVuSans-49\"/>\n      </defs>\n      <g transform=\"translate(58.957401 242.738438)scale(0.1 -0.1)\">\n       <use xlink:href=\"#DejaVuSans-49\"/>\n      </g>\n     </g>\n    </g>\n    <g id=\"xtick_2\">\n     <g id=\"line2d_2\">\n      <g>\n       <use style=\"stroke:#000000;stroke-width:0.8;\" x=\"79.759704\" xlink:href=\"#me60a6e9582\" y=\"228.14\"/>\n      </g>\n     </g>\n     <g id=\"text_2\">\n      <!-- 2 -->\n      <defs>\n       <path d=\"M 19.1875 8.296875 \nL 53.609375 8.296875 \nL 53.609375 0 \nL 7.328125 0 \nL 7.328125 8.296875 \nQ 12.9375 14.109375 22.625 23.890625 \nQ 32.328125 33.6875 34.8125 36.53125 \nQ 39.546875 41.84375 41.421875 45.53125 \nQ 43.3125 49.21875 43.3125 52.78125 \nQ 43.3125 58.59375 39.234375 62.25 \nQ 35.15625 65.921875 28.609375 65.921875 \nQ 23.96875 65.921875 18.8125 64.3125 \nQ 13.671875 62.703125 7.8125 59.421875 \nL 7.8125 69.390625 \nQ 13.765625 71.78125 18.9375 73 \nQ 24.125 74.21875 28.421875 74.21875 \nQ 39.75 74.21875 46.484375 68.546875 \nQ 53.21875 62.890625 53.21875 53.421875 \nQ 53.21875 48.921875 51.53125 44.890625 \nQ 49.859375 40.875 45.40625 35.40625 \nQ 44.1875 33.984375 37.640625 27.21875 \nQ 31.109375 20.453125 19.1875 8.296875 \nz\n\" id=\"DejaVuSans-50\"/>\n      </defs>\n      <g transform=\"translate(76.578454 242.738438)scale(0.1 -0.1)\">\n       <use xlink:href=\"#DejaVuSans-50\"/>\n      </g>\n     </g>\n    </g>\n    <g id=\"xtick_3\">\n     <g id=\"line2d_3\">\n      <g>\n       <use style=\"stroke:#000000;stroke-width:0.8;\" x=\"97.380757\" xlink:href=\"#me60a6e9582\" y=\"228.14\"/>\n      </g>\n     </g>\n     <g id=\"text_3\">\n      <!-- 3 -->\n      <defs>\n       <path d=\"M 40.578125 39.3125 \nQ 47.65625 37.796875 51.625 33 \nQ 55.609375 28.21875 55.609375 21.1875 \nQ 55.609375 10.40625 48.1875 4.484375 \nQ 40.765625 -1.421875 27.09375 -1.421875 \nQ 22.515625 -1.421875 17.65625 -0.515625 \nQ 12.796875 0.390625 7.625 2.203125 \nL 7.625 11.71875 \nQ 11.71875 9.328125 16.59375 8.109375 \nQ 21.484375 6.890625 26.8125 6.890625 \nQ 36.078125 6.890625 40.9375 10.546875 \nQ 45.796875 14.203125 45.796875 21.1875 \nQ 45.796875 27.640625 41.28125 31.265625 \nQ 36.765625 34.90625 28.71875 34.90625 \nL 20.21875 34.90625 \nL 20.21875 43.015625 \nL 29.109375 43.015625 \nQ 36.375 43.015625 40.234375 45.921875 \nQ 44.09375 48.828125 44.09375 54.296875 \nQ 44.09375 59.90625 40.109375 62.90625 \nQ 36.140625 65.921875 28.71875 65.921875 \nQ 24.65625 65.921875 20.015625 65.03125 \nQ 15.375 64.15625 9.8125 62.3125 \nL 9.8125 71.09375 \nQ 15.4375 72.65625 20.34375 73.4375 \nQ 25.25 74.21875 29.59375 74.21875 \nQ 40.828125 74.21875 47.359375 69.109375 \nQ 53.90625 64.015625 53.90625 55.328125 \nQ 53.90625 49.265625 50.4375 45.09375 \nQ 46.96875 40.921875 40.578125 39.3125 \nz\n\" id=\"DejaVuSans-51\"/>\n      </defs>\n      <g transform=\"translate(94.199507 242.738438)scale(0.1 -0.1)\">\n       <use xlink:href=\"#DejaVuSans-51\"/>\n      </g>\n     </g>\n    </g>\n    <g id=\"xtick_4\">\n     <g id=\"line2d_4\">\n      <g>\n       <use style=\"stroke:#000000;stroke-width:0.8;\" x=\"115.001809\" xlink:href=\"#me60a6e9582\" y=\"228.14\"/>\n      </g>\n     </g>\n     <g id=\"text_4\">\n      <!-- 4 -->\n      <defs>\n       <path d=\"M 37.796875 64.3125 \nL 12.890625 25.390625 \nL 37.796875 25.390625 \nz\nM 35.203125 72.90625 \nL 47.609375 72.90625 \nL 47.609375 25.390625 \nL 58.015625 25.390625 \nL 58.015625 17.1875 \nL 47.609375 17.1875 \nL 47.609375 0 \nL 37.796875 0 \nL 37.796875 17.1875 \nL 4.890625 17.1875 \nL 4.890625 26.703125 \nz\n\" id=\"DejaVuSans-52\"/>\n      </defs>\n      <g transform=\"translate(111.820559 242.738438)scale(0.1 -0.1)\">\n       <use xlink:href=\"#DejaVuSans-52\"/>\n      </g>\n     </g>\n    </g>\n    <g id=\"xtick_5\">\n     <g id=\"line2d_5\">\n      <g>\n       <use style=\"stroke:#000000;stroke-width:0.8;\" x=\"132.622862\" xlink:href=\"#me60a6e9582\" y=\"228.14\"/>\n      </g>\n     </g>\n     <g id=\"text_5\">\n      <!-- 5 -->\n      <defs>\n       <path d=\"M 10.796875 72.90625 \nL 49.515625 72.90625 \nL 49.515625 64.59375 \nL 19.828125 64.59375 \nL 19.828125 46.734375 \nQ 21.96875 47.46875 24.109375 47.828125 \nQ 26.265625 48.1875 28.421875 48.1875 \nQ 40.625 48.1875 47.75 41.5 \nQ 54.890625 34.8125 54.890625 23.390625 \nQ 54.890625 11.625 47.5625 5.09375 \nQ 40.234375 -1.421875 26.90625 -1.421875 \nQ 22.3125 -1.421875 17.546875 -0.640625 \nQ 12.796875 0.140625 7.71875 1.703125 \nL 7.71875 11.625 \nQ 12.109375 9.234375 16.796875 8.0625 \nQ 21.484375 6.890625 26.703125 6.890625 \nQ 35.15625 6.890625 40.078125 11.328125 \nQ 45.015625 15.765625 45.015625 23.390625 \nQ 45.015625 31 40.078125 35.4375 \nQ 35.15625 39.890625 26.703125 39.890625 \nQ 22.75 39.890625 18.8125 39.015625 \nQ 14.890625 38.140625 10.796875 36.28125 \nz\n\" id=\"DejaVuSans-53\"/>\n      </defs>\n      <g transform=\"translate(129.441612 242.738438)scale(0.1 -0.1)\">\n       <use xlink:href=\"#DejaVuSans-53\"/>\n      </g>\n     </g>\n    </g>\n    <g id=\"xtick_6\">\n     <g id=\"line2d_6\">\n      <g>\n       <use style=\"stroke:#000000;stroke-width:0.8;\" x=\"150.243914\" xlink:href=\"#me60a6e9582\" y=\"228.14\"/>\n      </g>\n     </g>\n     <g id=\"text_6\">\n      <!-- 6 -->\n      <defs>\n       <path d=\"M 33.015625 40.375 \nQ 26.375 40.375 22.484375 35.828125 \nQ 18.609375 31.296875 18.609375 23.390625 \nQ 18.609375 15.53125 22.484375 10.953125 \nQ 26.375 6.390625 33.015625 6.390625 \nQ 39.65625 6.390625 43.53125 10.953125 \nQ 47.40625 15.53125 47.40625 23.390625 \nQ 47.40625 31.296875 43.53125 35.828125 \nQ 39.65625 40.375 33.015625 40.375 \nz\nM 52.59375 71.296875 \nL 52.59375 62.3125 \nQ 48.875 64.0625 45.09375 64.984375 \nQ 41.3125 65.921875 37.59375 65.921875 \nQ 27.828125 65.921875 22.671875 59.328125 \nQ 17.53125 52.734375 16.796875 39.40625 \nQ 19.671875 43.65625 24.015625 45.921875 \nQ 28.375 48.1875 33.59375 48.1875 \nQ 44.578125 48.1875 50.953125 41.515625 \nQ 57.328125 34.859375 57.328125 23.390625 \nQ 57.328125 12.15625 50.6875 5.359375 \nQ 44.046875 -1.421875 33.015625 -1.421875 \nQ 20.359375 -1.421875 13.671875 8.265625 \nQ 6.984375 17.96875 6.984375 36.375 \nQ 6.984375 53.65625 15.1875 63.9375 \nQ 23.390625 74.21875 37.203125 74.21875 \nQ 40.921875 74.21875 44.703125 73.484375 \nQ 48.484375 72.75 52.59375 71.296875 \nz\n\" id=\"DejaVuSans-54\"/>\n      </defs>\n      <g transform=\"translate(147.062664 242.738438)scale(0.1 -0.1)\">\n       <use xlink:href=\"#DejaVuSans-54\"/>\n      </g>\n     </g>\n    </g>\n    <g id=\"xtick_7\">\n     <g id=\"line2d_7\">\n      <g>\n       <use style=\"stroke:#000000;stroke-width:0.8;\" x=\"167.864967\" xlink:href=\"#me60a6e9582\" y=\"228.14\"/>\n      </g>\n     </g>\n     <g id=\"text_7\">\n      <!-- 7 -->\n      <defs>\n       <path d=\"M 8.203125 72.90625 \nL 55.078125 72.90625 \nL 55.078125 68.703125 \nL 28.609375 0 \nL 18.3125 0 \nL 43.21875 64.59375 \nL 8.203125 64.59375 \nz\n\" id=\"DejaVuSans-55\"/>\n      </defs>\n      <g transform=\"translate(164.683717 242.738438)scale(0.1 -0.1)\">\n       <use xlink:href=\"#DejaVuSans-55\"/>\n      </g>\n     </g>\n    </g>\n    <g id=\"xtick_8\">\n     <g id=\"line2d_8\">\n      <g>\n       <use style=\"stroke:#000000;stroke-width:0.8;\" x=\"185.48602\" xlink:href=\"#me60a6e9582\" y=\"228.14\"/>\n      </g>\n     </g>\n     <g id=\"text_8\">\n      <!-- 8 -->\n      <defs>\n       <path d=\"M 31.78125 34.625 \nQ 24.75 34.625 20.71875 30.859375 \nQ 16.703125 27.09375 16.703125 20.515625 \nQ 16.703125 13.921875 20.71875 10.15625 \nQ 24.75 6.390625 31.78125 6.390625 \nQ 38.8125 6.390625 42.859375 10.171875 \nQ 46.921875 13.96875 46.921875 20.515625 \nQ 46.921875 27.09375 42.890625 30.859375 \nQ 38.875 34.625 31.78125 34.625 \nz\nM 21.921875 38.8125 \nQ 15.578125 40.375 12.03125 44.71875 \nQ 8.5 49.078125 8.5 55.328125 \nQ 8.5 64.0625 14.71875 69.140625 \nQ 20.953125 74.21875 31.78125 74.21875 \nQ 42.671875 74.21875 48.875 69.140625 \nQ 55.078125 64.0625 55.078125 55.328125 \nQ 55.078125 49.078125 51.53125 44.71875 \nQ 48 40.375 41.703125 38.8125 \nQ 48.828125 37.15625 52.796875 32.3125 \nQ 56.78125 27.484375 56.78125 20.515625 \nQ 56.78125 9.90625 50.3125 4.234375 \nQ 43.84375 -1.421875 31.78125 -1.421875 \nQ 19.734375 -1.421875 13.25 4.234375 \nQ 6.78125 9.90625 6.78125 20.515625 \nQ 6.78125 27.484375 10.78125 32.3125 \nQ 14.796875 37.15625 21.921875 38.8125 \nz\nM 18.3125 54.390625 \nQ 18.3125 48.734375 21.84375 45.5625 \nQ 25.390625 42.390625 31.78125 42.390625 \nQ 38.140625 42.390625 41.71875 45.5625 \nQ 45.3125 48.734375 45.3125 54.390625 \nQ 45.3125 60.0625 41.71875 63.234375 \nQ 38.140625 66.40625 31.78125 66.40625 \nQ 25.390625 66.40625 21.84375 63.234375 \nQ 18.3125 60.0625 18.3125 54.390625 \nz\n\" id=\"DejaVuSans-56\"/>\n      </defs>\n      <g transform=\"translate(182.30477 242.738438)scale(0.1 -0.1)\">\n       <use xlink:href=\"#DejaVuSans-56\"/>\n      </g>\n     </g>\n    </g>\n    <g id=\"xtick_9\">\n     <g id=\"line2d_9\">\n      <g>\n       <use style=\"stroke:#000000;stroke-width:0.8;\" x=\"203.107072\" xlink:href=\"#me60a6e9582\" y=\"228.14\"/>\n      </g>\n     </g>\n     <g id=\"text_9\">\n      <!-- 9 -->\n      <defs>\n       <path d=\"M 10.984375 1.515625 \nL 10.984375 10.5 \nQ 14.703125 8.734375 18.5 7.8125 \nQ 22.3125 6.890625 25.984375 6.890625 \nQ 35.75 6.890625 40.890625 13.453125 \nQ 46.046875 20.015625 46.78125 33.40625 \nQ 43.953125 29.203125 39.59375 26.953125 \nQ 35.25 24.703125 29.984375 24.703125 \nQ 19.046875 24.703125 12.671875 31.3125 \nQ 6.296875 37.9375 6.296875 49.421875 \nQ 6.296875 60.640625 12.9375 67.421875 \nQ 19.578125 74.21875 30.609375 74.21875 \nQ 43.265625 74.21875 49.921875 64.515625 \nQ 56.59375 54.828125 56.59375 36.375 \nQ 56.59375 19.140625 48.40625 8.859375 \nQ 40.234375 -1.421875 26.421875 -1.421875 \nQ 22.703125 -1.421875 18.890625 -0.6875 \nQ 15.09375 0.046875 10.984375 1.515625 \nz\nM 30.609375 32.421875 \nQ 37.25 32.421875 41.125 36.953125 \nQ 45.015625 41.5 45.015625 49.421875 \nQ 45.015625 57.28125 41.125 61.84375 \nQ 37.25 66.40625 30.609375 66.40625 \nQ 23.96875 66.40625 20.09375 61.84375 \nQ 16.21875 57.28125 16.21875 49.421875 \nQ 16.21875 41.5 20.09375 36.953125 \nQ 23.96875 32.421875 30.609375 32.421875 \nz\n\" id=\"DejaVuSans-57\"/>\n      </defs>\n      <g transform=\"translate(199.925822 242.738438)scale(0.1 -0.1)\">\n       <use xlink:href=\"#DejaVuSans-57\"/>\n      </g>\n     </g>\n    </g>\n    <g id=\"xtick_10\">\n     <g id=\"line2d_10\">\n      <g>\n       <use style=\"stroke:#000000;stroke-width:0.8;\" x=\"220.728125\" xlink:href=\"#me60a6e9582\" y=\"228.14\"/>\n      </g>\n     </g>\n     <g id=\"text_10\">\n      <!-- 10 -->\n      <defs>\n       <path d=\"M 31.78125 66.40625 \nQ 24.171875 66.40625 20.328125 58.90625 \nQ 16.5 51.421875 16.5 36.375 \nQ 16.5 21.390625 20.328125 13.890625 \nQ 24.171875 6.390625 31.78125 6.390625 \nQ 39.453125 6.390625 43.28125 13.890625 \nQ 47.125 21.390625 47.125 36.375 \nQ 47.125 51.421875 43.28125 58.90625 \nQ 39.453125 66.40625 31.78125 66.40625 \nz\nM 31.78125 74.21875 \nQ 44.046875 74.21875 50.515625 64.515625 \nQ 56.984375 54.828125 56.984375 36.375 \nQ 56.984375 17.96875 50.515625 8.265625 \nQ 44.046875 -1.421875 31.78125 -1.421875 \nQ 19.53125 -1.421875 13.0625 8.265625 \nQ 6.59375 17.96875 6.59375 36.375 \nQ 6.59375 54.828125 13.0625 64.515625 \nQ 19.53125 74.21875 31.78125 74.21875 \nz\n\" id=\"DejaVuSans-48\"/>\n      </defs>\n      <g transform=\"translate(214.365625 242.738438)scale(0.1 -0.1)\">\n       <use xlink:href=\"#DejaVuSans-49\"/>\n       <use x=\"63.623047\" xlink:href=\"#DejaVuSans-48\"/>\n      </g>\n     </g>\n    </g>\n    <g id=\"xtick_11\">\n     <g id=\"line2d_11\">\n      <g>\n       <use style=\"stroke:#000000;stroke-width:0.8;\" x=\"238.349178\" xlink:href=\"#me60a6e9582\" y=\"228.14\"/>\n      </g>\n     </g>\n     <g id=\"text_11\">\n      <!-- 11 -->\n      <g transform=\"translate(231.986678 242.738438)scale(0.1 -0.1)\">\n       <use xlink:href=\"#DejaVuSans-49\"/>\n       <use x=\"63.623047\" xlink:href=\"#DejaVuSans-49\"/>\n      </g>\n     </g>\n    </g>\n    <g id=\"xtick_12\">\n     <g id=\"line2d_12\">\n      <g>\n       <use style=\"stroke:#000000;stroke-width:0.8;\" x=\"255.97023\" xlink:href=\"#me60a6e9582\" y=\"228.14\"/>\n      </g>\n     </g>\n     <g id=\"text_12\">\n      <!-- 12 -->\n      <g transform=\"translate(249.60773 242.738438)scale(0.1 -0.1)\">\n       <use xlink:href=\"#DejaVuSans-49\"/>\n       <use x=\"63.623047\" xlink:href=\"#DejaVuSans-50\"/>\n      </g>\n     </g>\n    </g>\n    <g id=\"xtick_13\">\n     <g id=\"line2d_13\">\n      <g>\n       <use style=\"stroke:#000000;stroke-width:0.8;\" x=\"273.591283\" xlink:href=\"#me60a6e9582\" y=\"228.14\"/>\n      </g>\n     </g>\n     <g id=\"text_13\">\n      <!-- 13 -->\n      <g transform=\"translate(267.228783 242.738438)scale(0.1 -0.1)\">\n       <use xlink:href=\"#DejaVuSans-49\"/>\n       <use x=\"63.623047\" xlink:href=\"#DejaVuSans-51\"/>\n      </g>\n     </g>\n    </g>\n    <g id=\"xtick_14\">\n     <g id=\"line2d_14\">\n      <g>\n       <use style=\"stroke:#000000;stroke-width:0.8;\" x=\"291.212336\" xlink:href=\"#me60a6e9582\" y=\"228.14\"/>\n      </g>\n     </g>\n     <g id=\"text_14\">\n      <!-- 14 -->\n      <g transform=\"translate(284.849836 242.738438)scale(0.1 -0.1)\">\n       <use xlink:href=\"#DejaVuSans-49\"/>\n       <use x=\"63.623047\" xlink:href=\"#DejaVuSans-52\"/>\n      </g>\n     </g>\n    </g>\n    <g id=\"xtick_15\">\n     <g id=\"line2d_15\">\n      <g>\n       <use style=\"stroke:#000000;stroke-width:0.8;\" x=\"308.833388\" xlink:href=\"#me60a6e9582\" y=\"228.14\"/>\n      </g>\n     </g>\n     <g id=\"text_15\">\n      <!-- 15 -->\n      <g transform=\"translate(302.470888 242.738438)scale(0.1 -0.1)\">\n       <use xlink:href=\"#DejaVuSans-49\"/>\n       <use x=\"63.623047\" xlink:href=\"#DejaVuSans-53\"/>\n      </g>\n     </g>\n    </g>\n    <g id=\"xtick_16\">\n     <g id=\"line2d_16\">\n      <g>\n       <use style=\"stroke:#000000;stroke-width:0.8;\" x=\"326.454441\" xlink:href=\"#me60a6e9582\" y=\"228.14\"/>\n      </g>\n     </g>\n     <g id=\"text_16\">\n      <!-- 16 -->\n      <g transform=\"translate(320.091941 242.738438)scale(0.1 -0.1)\">\n       <use xlink:href=\"#DejaVuSans-49\"/>\n       <use x=\"63.623047\" xlink:href=\"#DejaVuSans-54\"/>\n      </g>\n     </g>\n    </g>\n    <g id=\"xtick_17\">\n     <g id=\"line2d_17\">\n      <g>\n       <use style=\"stroke:#000000;stroke-width:0.8;\" x=\"344.075493\" xlink:href=\"#me60a6e9582\" y=\"228.14\"/>\n      </g>\n     </g>\n     <g id=\"text_17\">\n      <!-- 17 -->\n      <g transform=\"translate(337.712993 242.738438)scale(0.1 -0.1)\">\n       <use xlink:href=\"#DejaVuSans-49\"/>\n       <use x=\"63.623047\" xlink:href=\"#DejaVuSans-55\"/>\n      </g>\n     </g>\n    </g>\n    <g id=\"xtick_18\">\n     <g id=\"line2d_18\">\n      <g>\n       <use style=\"stroke:#000000;stroke-width:0.8;\" x=\"361.696546\" xlink:href=\"#me60a6e9582\" y=\"228.14\"/>\n      </g>\n     </g>\n     <g id=\"text_18\">\n      <!-- 18 -->\n      <g transform=\"translate(355.334046 242.738438)scale(0.1 -0.1)\">\n       <use xlink:href=\"#DejaVuSans-49\"/>\n       <use x=\"63.623047\" xlink:href=\"#DejaVuSans-56\"/>\n      </g>\n     </g>\n    </g>\n    <g id=\"xtick_19\">\n     <g id=\"line2d_19\">\n      <g>\n       <use style=\"stroke:#000000;stroke-width:0.8;\" x=\"379.317599\" xlink:href=\"#me60a6e9582\" y=\"228.14\"/>\n      </g>\n     </g>\n     <g id=\"text_19\">\n      <!-- 19 -->\n      <g transform=\"translate(372.955099 242.738438)scale(0.1 -0.1)\">\n       <use xlink:href=\"#DejaVuSans-49\"/>\n       <use x=\"63.623047\" xlink:href=\"#DejaVuSans-57\"/>\n      </g>\n     </g>\n    </g>\n    <g id=\"text_20\">\n     <!-- Noise_Category -->\n     <defs>\n      <path d=\"M 9.8125 72.90625 \nL 23.09375 72.90625 \nL 55.421875 11.921875 \nL 55.421875 72.90625 \nL 64.984375 72.90625 \nL 64.984375 0 \nL 51.703125 0 \nL 19.390625 60.984375 \nL 19.390625 0 \nL 9.8125 0 \nz\n\" id=\"DejaVuSans-78\"/>\n      <path d=\"M 30.609375 48.390625 \nQ 23.390625 48.390625 19.1875 42.75 \nQ 14.984375 37.109375 14.984375 27.296875 \nQ 14.984375 17.484375 19.15625 11.84375 \nQ 23.34375 6.203125 30.609375 6.203125 \nQ 37.796875 6.203125 41.984375 11.859375 \nQ 46.1875 17.53125 46.1875 27.296875 \nQ 46.1875 37.015625 41.984375 42.703125 \nQ 37.796875 48.390625 30.609375 48.390625 \nz\nM 30.609375 56 \nQ 42.328125 56 49.015625 48.375 \nQ 55.71875 40.765625 55.71875 27.296875 \nQ 55.71875 13.875 49.015625 6.21875 \nQ 42.328125 -1.421875 30.609375 -1.421875 \nQ 18.84375 -1.421875 12.171875 6.21875 \nQ 5.515625 13.875 5.515625 27.296875 \nQ 5.515625 40.765625 12.171875 48.375 \nQ 18.84375 56 30.609375 56 \nz\n\" id=\"DejaVuSans-111\"/>\n      <path d=\"M 9.421875 54.6875 \nL 18.40625 54.6875 \nL 18.40625 0 \nL 9.421875 0 \nz\nM 9.421875 75.984375 \nL 18.40625 75.984375 \nL 18.40625 64.59375 \nL 9.421875 64.59375 \nz\n\" id=\"DejaVuSans-105\"/>\n      <path d=\"M 44.28125 53.078125 \nL 44.28125 44.578125 \nQ 40.484375 46.53125 36.375 47.5 \nQ 32.28125 48.484375 27.875 48.484375 \nQ 21.1875 48.484375 17.84375 46.4375 \nQ 14.5 44.390625 14.5 40.28125 \nQ 14.5 37.15625 16.890625 35.375 \nQ 19.28125 33.59375 26.515625 31.984375 \nL 29.59375 31.296875 \nQ 39.15625 29.25 43.1875 25.515625 \nQ 47.21875 21.78125 47.21875 15.09375 \nQ 47.21875 7.46875 41.1875 3.015625 \nQ 35.15625 -1.421875 24.609375 -1.421875 \nQ 20.21875 -1.421875 15.453125 -0.5625 \nQ 10.6875 0.296875 5.421875 2 \nL 5.421875 11.28125 \nQ 10.40625 8.6875 15.234375 7.390625 \nQ 20.0625 6.109375 24.8125 6.109375 \nQ 31.15625 6.109375 34.5625 8.28125 \nQ 37.984375 10.453125 37.984375 14.40625 \nQ 37.984375 18.0625 35.515625 20.015625 \nQ 33.0625 21.96875 24.703125 23.78125 \nL 21.578125 24.515625 \nQ 13.234375 26.265625 9.515625 29.90625 \nQ 5.8125 33.546875 5.8125 39.890625 \nQ 5.8125 47.609375 11.28125 51.796875 \nQ 16.75 56 26.8125 56 \nQ 31.78125 56 36.171875 55.265625 \nQ 40.578125 54.546875 44.28125 53.078125 \nz\n\" id=\"DejaVuSans-115\"/>\n      <path d=\"M 56.203125 29.59375 \nL 56.203125 25.203125 \nL 14.890625 25.203125 \nQ 15.484375 15.921875 20.484375 11.0625 \nQ 25.484375 6.203125 34.421875 6.203125 \nQ 39.59375 6.203125 44.453125 7.46875 \nQ 49.3125 8.734375 54.109375 11.28125 \nL 54.109375 2.78125 \nQ 49.265625 0.734375 44.1875 -0.34375 \nQ 39.109375 -1.421875 33.890625 -1.421875 \nQ 20.796875 -1.421875 13.15625 6.1875 \nQ 5.515625 13.8125 5.515625 26.8125 \nQ 5.515625 40.234375 12.765625 48.109375 \nQ 20.015625 56 32.328125 56 \nQ 43.359375 56 49.78125 48.890625 \nQ 56.203125 41.796875 56.203125 29.59375 \nz\nM 47.21875 32.234375 \nQ 47.125 39.59375 43.09375 43.984375 \nQ 39.0625 48.390625 32.421875 48.390625 \nQ 24.90625 48.390625 20.390625 44.140625 \nQ 15.875 39.890625 15.1875 32.171875 \nz\n\" id=\"DejaVuSans-101\"/>\n      <path d=\"M 50.984375 -16.609375 \nL 50.984375 -23.578125 \nL -0.984375 -23.578125 \nL -0.984375 -16.609375 \nz\n\" id=\"DejaVuSans-95\"/>\n      <path d=\"M 64.40625 67.28125 \nL 64.40625 56.890625 \nQ 59.421875 61.53125 53.78125 63.8125 \nQ 48.140625 66.109375 41.796875 66.109375 \nQ 29.296875 66.109375 22.65625 58.46875 \nQ 16.015625 50.828125 16.015625 36.375 \nQ 16.015625 21.96875 22.65625 14.328125 \nQ 29.296875 6.6875 41.796875 6.6875 \nQ 48.140625 6.6875 53.78125 8.984375 \nQ 59.421875 11.28125 64.40625 15.921875 \nL 64.40625 5.609375 \nQ 59.234375 2.09375 53.4375 0.328125 \nQ 47.65625 -1.421875 41.21875 -1.421875 \nQ 24.65625 -1.421875 15.125 8.703125 \nQ 5.609375 18.84375 5.609375 36.375 \nQ 5.609375 53.953125 15.125 64.078125 \nQ 24.65625 74.21875 41.21875 74.21875 \nQ 47.75 74.21875 53.53125 72.484375 \nQ 59.328125 70.75 64.40625 67.28125 \nz\n\" id=\"DejaVuSans-67\"/>\n      <path d=\"M 34.28125 27.484375 \nQ 23.390625 27.484375 19.1875 25 \nQ 14.984375 22.515625 14.984375 16.5 \nQ 14.984375 11.71875 18.140625 8.90625 \nQ 21.296875 6.109375 26.703125 6.109375 \nQ 34.1875 6.109375 38.703125 11.40625 \nQ 43.21875 16.703125 43.21875 25.484375 \nL 43.21875 27.484375 \nz\nM 52.203125 31.203125 \nL 52.203125 0 \nL 43.21875 0 \nL 43.21875 8.296875 \nQ 40.140625 3.328125 35.546875 0.953125 \nQ 30.953125 -1.421875 24.3125 -1.421875 \nQ 15.921875 -1.421875 10.953125 3.296875 \nQ 6 8.015625 6 15.921875 \nQ 6 25.140625 12.171875 29.828125 \nQ 18.359375 34.515625 30.609375 34.515625 \nL 43.21875 34.515625 \nL 43.21875 35.40625 \nQ 43.21875 41.609375 39.140625 45 \nQ 35.0625 48.390625 27.6875 48.390625 \nQ 23 48.390625 18.546875 47.265625 \nQ 14.109375 46.140625 10.015625 43.890625 \nL 10.015625 52.203125 \nQ 14.9375 54.109375 19.578125 55.046875 \nQ 24.21875 56 28.609375 56 \nQ 40.484375 56 46.34375 49.84375 \nQ 52.203125 43.703125 52.203125 31.203125 \nz\n\" id=\"DejaVuSans-97\"/>\n      <path d=\"M 18.3125 70.21875 \nL 18.3125 54.6875 \nL 36.8125 54.6875 \nL 36.8125 47.703125 \nL 18.3125 47.703125 \nL 18.3125 18.015625 \nQ 18.3125 11.328125 20.140625 9.421875 \nQ 21.96875 7.515625 27.59375 7.515625 \nL 36.8125 7.515625 \nL 36.8125 0 \nL 27.59375 0 \nQ 17.1875 0 13.234375 3.875 \nQ 9.28125 7.765625 9.28125 18.015625 \nL 9.28125 47.703125 \nL 2.6875 47.703125 \nL 2.6875 54.6875 \nL 9.28125 54.6875 \nL 9.28125 70.21875 \nz\n\" id=\"DejaVuSans-116\"/>\n      <path d=\"M 45.40625 27.984375 \nQ 45.40625 37.75 41.375 43.109375 \nQ 37.359375 48.484375 30.078125 48.484375 \nQ 22.859375 48.484375 18.828125 43.109375 \nQ 14.796875 37.75 14.796875 27.984375 \nQ 14.796875 18.265625 18.828125 12.890625 \nQ 22.859375 7.515625 30.078125 7.515625 \nQ 37.359375 7.515625 41.375 12.890625 \nQ 45.40625 18.265625 45.40625 27.984375 \nz\nM 54.390625 6.78125 \nQ 54.390625 -7.171875 48.1875 -13.984375 \nQ 42 -20.796875 29.203125 -20.796875 \nQ 24.46875 -20.796875 20.265625 -20.09375 \nQ 16.0625 -19.390625 12.109375 -17.921875 \nL 12.109375 -9.1875 \nQ 16.0625 -11.328125 19.921875 -12.34375 \nQ 23.78125 -13.375 27.78125 -13.375 \nQ 36.625 -13.375 41.015625 -8.765625 \nQ 45.40625 -4.15625 45.40625 5.171875 \nL 45.40625 9.625 \nQ 42.625 4.78125 38.28125 2.390625 \nQ 33.9375 0 27.875 0 \nQ 17.828125 0 11.671875 7.65625 \nQ 5.515625 15.328125 5.515625 27.984375 \nQ 5.515625 40.671875 11.671875 48.328125 \nQ 17.828125 56 27.875 56 \nQ 33.9375 56 38.28125 53.609375 \nQ 42.625 51.21875 45.40625 46.390625 \nL 45.40625 54.6875 \nL 54.390625 54.6875 \nz\n\" id=\"DejaVuSans-103\"/>\n      <path d=\"M 41.109375 46.296875 \nQ 39.59375 47.171875 37.8125 47.578125 \nQ 36.03125 48 33.890625 48 \nQ 26.265625 48 22.1875 43.046875 \nQ 18.109375 38.09375 18.109375 28.8125 \nL 18.109375 0 \nL 9.078125 0 \nL 9.078125 54.6875 \nL 18.109375 54.6875 \nL 18.109375 46.1875 \nQ 20.953125 51.171875 25.484375 53.578125 \nQ 30.03125 56 36.53125 56 \nQ 37.453125 56 38.578125 55.875 \nQ 39.703125 55.765625 41.0625 55.515625 \nz\n\" id=\"DejaVuSans-114\"/>\n      <path d=\"M 32.171875 -5.078125 \nQ 28.375 -14.84375 24.75 -17.8125 \nQ 21.140625 -20.796875 15.09375 -20.796875 \nL 7.90625 -20.796875 \nL 7.90625 -13.28125 \nL 13.1875 -13.28125 \nQ 16.890625 -13.28125 18.9375 -11.515625 \nQ 21 -9.765625 23.484375 -3.21875 \nL 25.09375 0.875 \nL 2.984375 54.6875 \nL 12.5 54.6875 \nL 29.59375 11.921875 \nL 46.6875 54.6875 \nL 56.203125 54.6875 \nz\n\" id=\"DejaVuSans-121\"/>\n     </defs>\n     <g transform=\"translate(181.517188 256.416562)scale(0.1 -0.1)\">\n      <use xlink:href=\"#DejaVuSans-78\"/>\n      <use x=\"74.804688\" xlink:href=\"#DejaVuSans-111\"/>\n      <use x=\"135.986328\" xlink:href=\"#DejaVuSans-105\"/>\n      <use x=\"163.769531\" xlink:href=\"#DejaVuSans-115\"/>\n      <use x=\"215.869141\" xlink:href=\"#DejaVuSans-101\"/>\n      <use x=\"277.392578\" xlink:href=\"#DejaVuSans-95\"/>\n      <use x=\"327.392578\" xlink:href=\"#DejaVuSans-67\"/>\n      <use x=\"397.216797\" xlink:href=\"#DejaVuSans-97\"/>\n      <use x=\"458.496094\" xlink:href=\"#DejaVuSans-116\"/>\n      <use x=\"497.705078\" xlink:href=\"#DejaVuSans-101\"/>\n      <use x=\"559.228516\" xlink:href=\"#DejaVuSans-103\"/>\n      <use x=\"622.705078\" xlink:href=\"#DejaVuSans-111\"/>\n      <use x=\"683.886719\" xlink:href=\"#DejaVuSans-114\"/>\n      <use x=\"725\" xlink:href=\"#DejaVuSans-121\"/>\n     </g>\n    </g>\n   </g>\n   <g id=\"matplotlib.axis_2\">\n    <g id=\"ytick_1\">\n     <g id=\"line2d_20\">\n      <defs>\n       <path d=\"M 0 0 \nL -3.5 0 \n\" id=\"m6f2fa812ac\" style=\"stroke:#000000;stroke-width:0.8;\"/>\n      </defs>\n      <g>\n       <use style=\"stroke:#000000;stroke-width:0.8;\" x=\"53.328125\" xlink:href=\"#m6f2fa812ac\" y=\"228.14\"/>\n      </g>\n     </g>\n     <g id=\"text_21\">\n      <!-- 0 -->\n      <g transform=\"translate(39.965625 231.939219)scale(0.1 -0.1)\">\n       <use xlink:href=\"#DejaVuSans-48\"/>\n      </g>\n     </g>\n    </g>\n    <g id=\"ytick_2\">\n     <g id=\"line2d_21\">\n      <g>\n       <use style=\"stroke:#000000;stroke-width:0.8;\" x=\"53.328125\" xlink:href=\"#m6f2fa812ac\" y=\"197.396871\"/>\n      </g>\n     </g>\n     <g id=\"text_22\">\n      <!-- 500 -->\n      <g transform=\"translate(27.240625 201.19609)scale(0.1 -0.1)\">\n       <use xlink:href=\"#DejaVuSans-53\"/>\n       <use x=\"63.623047\" xlink:href=\"#DejaVuSans-48\"/>\n       <use x=\"127.246094\" xlink:href=\"#DejaVuSans-48\"/>\n      </g>\n     </g>\n    </g>\n    <g id=\"ytick_3\">\n     <g id=\"line2d_22\">\n      <g>\n       <use style=\"stroke:#000000;stroke-width:0.8;\" x=\"53.328125\" xlink:href=\"#m6f2fa812ac\" y=\"166.653743\"/>\n      </g>\n     </g>\n     <g id=\"text_23\">\n      <!-- 1000 -->\n      <g transform=\"translate(20.878125 170.452962)scale(0.1 -0.1)\">\n       <use xlink:href=\"#DejaVuSans-49\"/>\n       <use x=\"63.623047\" xlink:href=\"#DejaVuSans-48\"/>\n       <use x=\"127.246094\" xlink:href=\"#DejaVuSans-48\"/>\n       <use x=\"190.869141\" xlink:href=\"#DejaVuSans-48\"/>\n      </g>\n     </g>\n    </g>\n    <g id=\"ytick_4\">\n     <g id=\"line2d_23\">\n      <g>\n       <use style=\"stroke:#000000;stroke-width:0.8;\" x=\"53.328125\" xlink:href=\"#m6f2fa812ac\" y=\"135.910614\"/>\n      </g>\n     </g>\n     <g id=\"text_24\">\n      <!-- 1500 -->\n      <g transform=\"translate(20.878125 139.709833)scale(0.1 -0.1)\">\n       <use xlink:href=\"#DejaVuSans-49\"/>\n       <use x=\"63.623047\" xlink:href=\"#DejaVuSans-53\"/>\n       <use x=\"127.246094\" xlink:href=\"#DejaVuSans-48\"/>\n       <use x=\"190.869141\" xlink:href=\"#DejaVuSans-48\"/>\n      </g>\n     </g>\n    </g>\n    <g id=\"ytick_5\">\n     <g id=\"line2d_24\">\n      <g>\n       <use style=\"stroke:#000000;stroke-width:0.8;\" x=\"53.328125\" xlink:href=\"#m6f2fa812ac\" y=\"105.167486\"/>\n      </g>\n     </g>\n     <g id=\"text_25\">\n      <!-- 2000 -->\n      <g transform=\"translate(20.878125 108.966704)scale(0.1 -0.1)\">\n       <use xlink:href=\"#DejaVuSans-50\"/>\n       <use x=\"63.623047\" xlink:href=\"#DejaVuSans-48\"/>\n       <use x=\"127.246094\" xlink:href=\"#DejaVuSans-48\"/>\n       <use x=\"190.869141\" xlink:href=\"#DejaVuSans-48\"/>\n      </g>\n     </g>\n    </g>\n    <g id=\"ytick_6\">\n     <g id=\"line2d_25\">\n      <g>\n       <use style=\"stroke:#000000;stroke-width:0.8;\" x=\"53.328125\" xlink:href=\"#m6f2fa812ac\" y=\"74.424357\"/>\n      </g>\n     </g>\n     <g id=\"text_26\">\n      <!-- 2500 -->\n      <g transform=\"translate(20.878125 78.223576)scale(0.1 -0.1)\">\n       <use xlink:href=\"#DejaVuSans-50\"/>\n       <use x=\"63.623047\" xlink:href=\"#DejaVuSans-53\"/>\n       <use x=\"127.246094\" xlink:href=\"#DejaVuSans-48\"/>\n       <use x=\"190.869141\" xlink:href=\"#DejaVuSans-48\"/>\n      </g>\n     </g>\n    </g>\n    <g id=\"ytick_7\">\n     <g id=\"line2d_26\">\n      <g>\n       <use style=\"stroke:#000000;stroke-width:0.8;\" x=\"53.328125\" xlink:href=\"#m6f2fa812ac\" y=\"43.681228\"/>\n      </g>\n     </g>\n     <g id=\"text_27\">\n      <!-- 3000 -->\n      <g transform=\"translate(20.878125 47.480447)scale(0.1 -0.1)\">\n       <use xlink:href=\"#DejaVuSans-51\"/>\n       <use x=\"63.623047\" xlink:href=\"#DejaVuSans-48\"/>\n       <use x=\"127.246094\" xlink:href=\"#DejaVuSans-48\"/>\n       <use x=\"190.869141\" xlink:href=\"#DejaVuSans-48\"/>\n      </g>\n     </g>\n    </g>\n    <g id=\"ytick_8\">\n     <g id=\"line2d_27\">\n      <g>\n       <use style=\"stroke:#000000;stroke-width:0.8;\" x=\"53.328125\" xlink:href=\"#m6f2fa812ac\" y=\"12.9381\"/>\n      </g>\n     </g>\n     <g id=\"text_28\">\n      <!-- 3500 -->\n      <g transform=\"translate(20.878125 16.737319)scale(0.1 -0.1)\">\n       <use xlink:href=\"#DejaVuSans-51\"/>\n       <use x=\"63.623047\" xlink:href=\"#DejaVuSans-53\"/>\n       <use x=\"127.246094\" xlink:href=\"#DejaVuSans-48\"/>\n       <use x=\"190.869141\" xlink:href=\"#DejaVuSans-48\"/>\n      </g>\n     </g>\n    </g>\n    <g id=\"text_29\">\n     <!-- count -->\n     <defs>\n      <path d=\"M 48.78125 52.59375 \nL 48.78125 44.1875 \nQ 44.96875 46.296875 41.140625 47.34375 \nQ 37.3125 48.390625 33.40625 48.390625 \nQ 24.65625 48.390625 19.8125 42.84375 \nQ 14.984375 37.3125 14.984375 27.296875 \nQ 14.984375 17.28125 19.8125 11.734375 \nQ 24.65625 6.203125 33.40625 6.203125 \nQ 37.3125 6.203125 41.140625 7.25 \nQ 44.96875 8.296875 48.78125 10.40625 \nL 48.78125 2.09375 \nQ 45.015625 0.34375 40.984375 -0.53125 \nQ 36.96875 -1.421875 32.421875 -1.421875 \nQ 20.0625 -1.421875 12.78125 6.34375 \nQ 5.515625 14.109375 5.515625 27.296875 \nQ 5.515625 40.671875 12.859375 48.328125 \nQ 20.21875 56 33.015625 56 \nQ 37.15625 56 41.109375 55.140625 \nQ 45.0625 54.296875 48.78125 52.59375 \nz\n\" id=\"DejaVuSans-99\"/>\n      <path d=\"M 8.5 21.578125 \nL 8.5 54.6875 \nL 17.484375 54.6875 \nL 17.484375 21.921875 \nQ 17.484375 14.15625 20.5 10.265625 \nQ 23.53125 6.390625 29.59375 6.390625 \nQ 36.859375 6.390625 41.078125 11.03125 \nQ 45.3125 15.671875 45.3125 23.6875 \nL 45.3125 54.6875 \nL 54.296875 54.6875 \nL 54.296875 0 \nL 45.3125 0 \nL 45.3125 8.40625 \nQ 42.046875 3.421875 37.71875 1 \nQ 33.40625 -1.421875 27.6875 -1.421875 \nQ 18.265625 -1.421875 13.375 4.4375 \nQ 8.5 10.296875 8.5 21.578125 \nz\nM 31.109375 56 \nz\n\" id=\"DejaVuSans-117\"/>\n      <path d=\"M 54.890625 33.015625 \nL 54.890625 0 \nL 45.90625 0 \nL 45.90625 32.71875 \nQ 45.90625 40.484375 42.875 44.328125 \nQ 39.84375 48.1875 33.796875 48.1875 \nQ 26.515625 48.1875 22.3125 43.546875 \nQ 18.109375 38.921875 18.109375 30.90625 \nL 18.109375 0 \nL 9.078125 0 \nL 9.078125 54.6875 \nL 18.109375 54.6875 \nL 18.109375 46.1875 \nQ 21.34375 51.125 25.703125 53.5625 \nQ 30.078125 56 35.796875 56 \nQ 45.21875 56 50.046875 50.171875 \nQ 54.890625 44.34375 54.890625 33.015625 \nz\n\" id=\"DejaVuSans-110\"/>\n     </defs>\n     <g transform=\"translate(14.798438 133.52625)rotate(-90)scale(0.1 -0.1)\">\n      <use xlink:href=\"#DejaVuSans-99\"/>\n      <use x=\"54.980469\" xlink:href=\"#DejaVuSans-111\"/>\n      <use x=\"116.162109\" xlink:href=\"#DejaVuSans-117\"/>\n      <use x=\"179.541016\" xlink:href=\"#DejaVuSans-110\"/>\n      <use x=\"242.919922\" xlink:href=\"#DejaVuSans-116\"/>\n     </g>\n    </g>\n   </g>\n   <g id=\"patch_22\">\n    <path d=\"M 53.328125 228.14 \nL 53.328125 10.7 \n\" style=\"fill:none;stroke:#000000;stroke-linecap:square;stroke-linejoin:miter;stroke-width:0.8;\"/>\n   </g>\n   <g id=\"patch_23\">\n    <path d=\"M 388.128125 228.14 \nL 388.128125 10.7 \n\" style=\"fill:none;stroke:#000000;stroke-linecap:square;stroke-linejoin:miter;stroke-width:0.8;\"/>\n   </g>\n   <g id=\"patch_24\">\n    <path d=\"M 53.328125 228.14 \nL 388.128125 228.14 \n\" style=\"fill:none;stroke:#000000;stroke-linecap:square;stroke-linejoin:miter;stroke-width:0.8;\"/>\n   </g>\n   <g id=\"patch_25\">\n    <path d=\"M 53.328125 10.7 \nL 388.128125 10.7 \n\" style=\"fill:none;stroke:#000000;stroke-linecap:square;stroke-linejoin:miter;stroke-width:0.8;\"/>\n   </g>\n  </g>\n </g>\n <defs>\n  <clipPath id=\"pb1bc7ebf93\">\n   <rect height=\"217.44\" width=\"334.8\" x=\"53.328125\" y=\"10.7\"/>\n  </clipPath>\n </defs>\n</svg>\n",
      "image/png": "[encoded data removed]"
     },
     "metadata": {
      "needs_background": "light"
     }
    }
   ],
   "source": [
    "sns.countplot(x=\"Noise_Category\", data=noise_data)"
   ]
  },
  {
   "source": [
    "### Payments calculation"
   ],
   "cell_type": "markdown",
   "metadata": {}
  },
  {
   "cell_type": "code",
   "execution_count": 39,
   "metadata": {},
   "outputs": [],
   "source": [
    "noise_data[\"SubmissionDate\"] = pd.to_datetime(noise_data[\"SubmissionDate\"], format=\"%Y-%m-%d\")"
   ]
  },
  {
   "cell_type": "code",
   "execution_count": 5,
   "metadata": {},
   "outputs": [
    {
     "output_type": "execute_result",
     "data": {
      "text/plain": [
       "['musa',\n",
       " 'njoan',\n",
       " 'njohn',\n",
       " 'ncrispus',\n",
       " 'oisaac',\n",
       " 'cuthbert',\n",
       " 'ojulius',\n",
       " 'ostephen',\n",
       " 'snsumba',\n",
       " 'djoshua']"
      ]
     },
     "metadata": {},
     "execution_count": 5
    }
   ],
   "source": [
    "submitters = list(noise_data['SubmitterName'].unique())\n",
    "submitters"
   ]
  },
  {
   "cell_type": "code",
   "execution_count": null,
   "metadata": {},
   "outputs": [],
   "source": []
  },
  {
   "cell_type": "code",
   "execution_count": 20,
   "metadata": {},
   "outputs": [],
   "source": [
    "def calculate_payment(submitter, date_range):\n",
    "    # noise_data = noise_data[noise_data['SubmissionDate'] == date_range]\n",
    "    num_submissions = noise_data[noise_data['SubmitterName'] == submitter].shape[0]\n",
    "    payment = num_submissions * 300\n",
    "    return payment"
   ]
  },
  {
   "cell_type": "code",
   "execution_count": 21,
   "metadata": {},
   "outputs": [
    {
     "data": {
      "text/plain": [
       "305400"
      ]
     },
     "execution_count": 21,
     "metadata": {},
     "output_type": "execute_result"
    }
   ],
   "source": [
    "calculate_payment('musa', '')"
   ]
  },
  {
   "cell_type": "code",
   "execution_count": 22,
   "metadata": {},
   "outputs": [
    {
     "name": "stdout",
     "output_type": "stream",
     "text": [
      "305400\n",
      "56100\n",
      "9900\n",
      "3600\n",
      "247200\n",
      "113100\n",
      "43500\n",
      "600\n",
      "1500\n",
      "600\n"
     ]
    }
   ],
   "source": [
    "for submitter in submitters:\n",
    "    payments = calculate_payment(submitter, '')\n",
    "    print(payments)"
   ]
  },
  {
   "cell_type": "code",
   "execution_count": null,
   "metadata": {},
   "outputs": [],
   "source": []
  }
 ],
 "metadata": {
  "kernelspec": {
   "display_name": "Python 3",
   "language": "python",
   "name": "python3"
  },
  "language_info": {
   "codemirror_mode": {
    "name": "ipython",
    "version": 3
   },
   "file_extension": ".py",
   "mimetype": "text/x-python",
   "name": "python",
   "nbconvert_exporter": "python",
   "pygments_lexer": "ipython3",
   "version": "3.7.6"
  }
 },
 "nbformat": 4,
 "nbformat_minor": 4
}