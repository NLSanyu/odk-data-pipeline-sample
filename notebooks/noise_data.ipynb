{
 "metadata": {
  "language_info": {
   "codemirror_mode": {
    "name": "ipython",
    "version": 3
   },
   "file_extension": ".py",
   "mimetype": "text/x-python",
   "name": "python",
   "nbconvert_exporter": "python",
   "pygments_lexer": "ipython3",
   "version": "3.7.6-final"
  },
  "orig_nbformat": 2,
  "kernelspec": {
   "name": "python3",
   "display_name": "Python 3",
   "language": "python"
  }
 },
 "nbformat": 4,
 "nbformat_minor": 2,
 "cells": [
  {
   "source": [
    "## Sunbird noise pollution data - exploratory analysis"
   ],
   "cell_type": "markdown",
   "metadata": {}
  },
  {
   "cell_type": "code",
   "execution_count": 1,
   "metadata": {},
   "outputs": [],
   "source": [
    "import pandas as pd"
   ]
  },
  {
   "cell_type": "code",
   "execution_count": 2,
   "metadata": {},
   "outputs": [],
   "source": [
    "noise_df = pd.read_csv('build_Noise-Capture-Form_1614927723.csv')"
   ]
  },
  {
   "cell_type": "code",
   "execution_count": 3,
   "metadata": {},
   "outputs": [
    {
     "output_type": "execute_result",
     "data": {
      "text/plain": [
       "             SubmissionDate                            meta-instanceID  \\\n",
       "0  2021-03-22T06:13:51.550Z  uuid:e194bce3-7d5f-4242-9bc7-38a6ea7e09e6   \n",
       "1  2021-03-22T06:11:36.197Z  uuid:b903d0b4-1988-489a-9ccf-76249beddf34   \n",
       "2  2021-03-22T06:09:02.219Z  uuid:5c704881-0695-4ae0-b2f9-08b51de89e58   \n",
       "3  2021-03-22T06:07:26.916Z  uuid:69935434-dce0-4037-b67b-dd8c0fb6fd97   \n",
       "4  2021-03-22T06:04:43.743Z  uuid:fdc60743-31ad-4182-9e1b-9108eb5177fc   \n",
       "\n",
       "         Noise-audio Noise-Noise_Measurement  \\\n",
       "0  1616393560391.wav                      77   \n",
       "1  1616393416359.wav                      74   \n",
       "2  1616393243323.wav                      74   \n",
       "3  1616393116755.wav                      72   \n",
       "4  1616393043673.wav                      73   \n",
       "\n",
       "                                  Noise-Noise_Source  Noise-Location-Latitude  \\\n",
       "0                   car-OR-truck Bodaboda-Motorcycle                      NaN   \n",
       "1  car-OR-truck Bodaboda-Motorcycle Motor-vehicle...                      NaN   \n",
       "2                   car-OR-truck Bodaboda-Motorcycle                 0.334595   \n",
       "3  car-OR-truck Bodaboda-Motorcycle Siren-Ambulan...                      NaN   \n",
       "4                   car-OR-truck Bodaboda-Motorcycle                 0.334469   \n",
       "\n",
       "   Noise-Location-Longitude  Noise-Location-Altitude  Noise-Location-Accuracy  \\\n",
       "0                       NaN                      NaN                      NaN   \n",
       "1                       NaN                      NaN                      NaN   \n",
       "2                 32.576640              1191.934471                    5.900   \n",
       "3                       NaN                      NaN                      NaN   \n",
       "4                 32.572933              1181.085361                  131.596   \n",
       "\n",
       "         Noise-Image Noise-Comment                                        KEY  \\\n",
       "0                NaN           NaN  uuid:e194bce3-7d5f-4242-9bc7-38a6ea7e09e6   \n",
       "1                NaN           NaN  uuid:b903d0b4-1988-489a-9ccf-76249beddf34   \n",
       "2  1616393301375.jpg           NaN  uuid:5c704881-0695-4ae0-b2f9-08b51de89e58   \n",
       "3  1616393202949.jpg           NaN  uuid:69935434-dce0-4037-b67b-dd8c0fb6fd97   \n",
       "4                NaN           NaN  uuid:fdc60743-31ad-4182-9e1b-9108eb5177fc   \n",
       "\n",
       "   SubmitterID SubmitterName  AttachmentsPresent  AttachmentsExpected  Status  \n",
       "0           18   ltnabukeera                   1                    1     NaN  \n",
       "1           18   ltnabukeera                   1                    1     NaN  \n",
       "2           18   ltnabukeera                   2                    2     NaN  \n",
       "3           18   ltnabukeera                   2                    2     NaN  \n",
       "4           18   ltnabukeera                   1                    1     NaN  "
      ],
      "text/html": "<div>\n<style scoped>\n    .dataframe tbody tr th:only-of-type {\n        vertical-align: middle;\n    }\n\n    .dataframe tbody tr th {\n        vertical-align: top;\n    }\n\n    .dataframe thead th {\n        text-align: right;\n    }\n</style>\n<table border=\"1\" class=\"dataframe\">\n  <thead>\n    <tr style=\"text-align: right;\">\n      <th></th>\n      <th>SubmissionDate</th>\n      <th>meta-instanceID</th>\n      <th>Noise-audio</th>\n      <th>Noise-Noise_Measurement</th>\n      <th>Noise-Noise_Source</th>\n      <th>Noise-Location-Latitude</th>\n      <th>Noise-Location-Longitude</th>\n      <th>Noise-Location-Altitude</th>\n      <th>Noise-Location-Accuracy</th>\n      <th>Noise-Image</th>\n      <th>Noise-Comment</th>\n      <th>KEY</th>\n      <th>SubmitterID</th>\n      <th>SubmitterName</th>\n      <th>AttachmentsPresent</th>\n      <th>AttachmentsExpected</th>\n      <th>Status</th>\n    </tr>\n  </thead>\n  <tbody>\n    <tr>\n      <th>0</th>\n      <td>2021-03-22T06:13:51.550Z</td>\n      <td>uuid:e194bce3-7d5f-4242-9bc7-38a6ea7e09e6</td>\n      <td>1616393560391.wav</td>\n      <td>77</td>\n      <td>car-OR-truck Bodaboda-Motorcycle</td>\n      <td>NaN</td>\n      <td>NaN</td>\n      <td>NaN</td>\n      <td>NaN</td>\n      <td>NaN</td>\n      <td>NaN</td>\n      <td>uuid:e194bce3-7d5f-4242-9bc7-38a6ea7e09e6</td>\n      <td>18</td>\n      <td>ltnabukeera</td>\n      <td>1</td>\n      <td>1</td>\n      <td>NaN</td>\n    </tr>\n    <tr>\n      <th>1</th>\n      <td>2021-03-22T06:11:36.197Z</td>\n      <td>uuid:b903d0b4-1988-489a-9ccf-76249beddf34</td>\n      <td>1616393416359.wav</td>\n      <td>74</td>\n      <td>car-OR-truck Bodaboda-Motorcycle Motor-vehicle...</td>\n      <td>NaN</td>\n      <td>NaN</td>\n      <td>NaN</td>\n      <td>NaN</td>\n      <td>NaN</td>\n      <td>NaN</td>\n      <td>uuid:b903d0b4-1988-489a-9ccf-76249beddf34</td>\n      <td>18</td>\n      <td>ltnabukeera</td>\n      <td>1</td>\n      <td>1</td>\n      <td>NaN</td>\n    </tr>\n    <tr>\n      <th>2</th>\n      <td>2021-03-22T06:09:02.219Z</td>\n      <td>uuid:5c704881-0695-4ae0-b2f9-08b51de89e58</td>\n      <td>1616393243323.wav</td>\n      <td>74</td>\n      <td>car-OR-truck Bodaboda-Motorcycle</td>\n      <td>0.334595</td>\n      <td>32.576640</td>\n      <td>1191.934471</td>\n      <td>5.900</td>\n      <td>1616393301375.jpg</td>\n      <td>NaN</td>\n      <td>uuid:5c704881-0695-4ae0-b2f9-08b51de89e58</td>\n      <td>18</td>\n      <td>ltnabukeera</td>\n      <td>2</td>\n      <td>2</td>\n      <td>NaN</td>\n    </tr>\n    <tr>\n      <th>3</th>\n      <td>2021-03-22T06:07:26.916Z</td>\n      <td>uuid:69935434-dce0-4037-b67b-dd8c0fb6fd97</td>\n      <td>1616393116755.wav</td>\n      <td>72</td>\n      <td>car-OR-truck Bodaboda-Motorcycle Siren-Ambulan...</td>\n      <td>NaN</td>\n      <td>NaN</td>\n      <td>NaN</td>\n      <td>NaN</td>\n      <td>1616393202949.jpg</td>\n      <td>NaN</td>\n      <td>uuid:69935434-dce0-4037-b67b-dd8c0fb6fd97</td>\n      <td>18</td>\n      <td>ltnabukeera</td>\n      <td>2</td>\n      <td>2</td>\n      <td>NaN</td>\n    </tr>\n    <tr>\n      <th>4</th>\n      <td>2021-03-22T06:04:43.743Z</td>\n      <td>uuid:fdc60743-31ad-4182-9e1b-9108eb5177fc</td>\n      <td>1616393043673.wav</td>\n      <td>73</td>\n      <td>car-OR-truck Bodaboda-Motorcycle</td>\n      <td>0.334469</td>\n      <td>32.572933</td>\n      <td>1181.085361</td>\n      <td>131.596</td>\n      <td>NaN</td>\n      <td>NaN</td>\n      <td>uuid:fdc60743-31ad-4182-9e1b-9108eb5177fc</td>\n      <td>18</td>\n      <td>ltnabukeera</td>\n      <td>1</td>\n      <td>1</td>\n      <td>NaN</td>\n    </tr>\n  </tbody>\n</table>\n</div>"
     },
     "metadata": {},
     "execution_count": 3
    }
   ],
   "source": [
    "noise_df.head()"
   ]
  },
  {
   "cell_type": "code",
   "execution_count": 66,
   "metadata": {},
   "outputs": [
    {
     "output_type": "stream",
     "name": "stdout",
     "text": [
      "<class 'pandas.core.frame.DataFrame'>\nRangeIndex: 487 entries, 0 to 486\nData columns (total 17 columns):\n #   Column                    Non-Null Count  Dtype  \n---  ------                    --------------  -----  \n 0   SubmissionDate            487 non-null    object \n 1   meta-instanceID           487 non-null    object \n 2   Noise-audio               486 non-null    object \n 3   Noise-Noise_Measurement   436 non-null    object \n 4   Noise-Noise_Source        486 non-null    object \n 5   Noise-Location-Latitude   150 non-null    float64\n 6   Noise-Location-Longitude  150 non-null    float64\n 7   Noise-Location-Altitude   150 non-null    float64\n 8   Noise-Location-Accuracy   150 non-null    float64\n 9   Noise-Image               32 non-null     object \n 10  Noise-Comment             34 non-null     object \n 11  KEY                       487 non-null    object \n 12  SubmitterID               487 non-null    int64  \n 13  SubmitterName             487 non-null    object \n 14  AttachmentsPresent        487 non-null    int64  \n 15  AttachmentsExpected       487 non-null    int64  \n 16  Status                    0 non-null      float64\ndtypes: float64(5), int64(3), object(9)\nmemory usage: 64.8+ KB\n"
     ]
    }
   ],
   "source": [
    "noise_df.info()"
   ]
  },
  {
   "cell_type": "code",
   "execution_count": 6,
   "metadata": {},
   "outputs": [
    {
     "output_type": "execute_result",
     "data": {
      "text/plain": [
       "(487, 17)"
      ]
     },
     "metadata": {},
     "execution_count": 6
    }
   ],
   "source": [
    "noise_df.shape"
   ]
  },
  {
   "cell_type": "code",
   "execution_count": 67,
   "metadata": {},
   "outputs": [],
   "source": [
    "link = 'https://sunbirdainoise.mooo.com/v1/projects/2/forms/build_Noise-Capture-Form_1614927723/submissions/uuid%3Ae194bce3-7d5f-4242-9bc7-38a6ea7e09e6/attachments/1616393560391.wav'\n",
    "\n",
    "form_submissions_link = 'https://sunbirdainoise.mooo.com/v1/projects/2/forms/build_Noise-Capture-Form_1614927723/submissions/'"
   ]
  },
  {
   "cell_type": "code",
   "execution_count": 80,
   "metadata": {},
   "outputs": [],
   "source": [
    "noise_df['Audio-link'] = form_submissions_link + noise_df['meta-instanceID'].astype(str) + '/attachments/' + noise_df['Noise-audio'].astype(str)"
   ]
  },
  {
   "cell_type": "code",
   "execution_count": 83,
   "metadata": {},
   "outputs": [
    {
     "output_type": "execute_result",
     "data": {
      "text/plain": [
       "             SubmissionDate                            meta-instanceID  \\\n",
       "0  2021-03-22T06:13:51.550Z  uuid:e194bce3-7d5f-4242-9bc7-38a6ea7e09e6   \n",
       "1  2021-03-22T06:11:36.197Z  uuid:b903d0b4-1988-489a-9ccf-76249beddf34   \n",
       "2  2021-03-22T06:09:02.219Z  uuid:5c704881-0695-4ae0-b2f9-08b51de89e58   \n",
       "3  2021-03-22T06:07:26.916Z  uuid:69935434-dce0-4037-b67b-dd8c0fb6fd97   \n",
       "4  2021-03-22T06:04:43.743Z  uuid:fdc60743-31ad-4182-9e1b-9108eb5177fc   \n",
       "\n",
       "         Noise-audio Noise-Noise_Measurement  \\\n",
       "0  1616393560391.wav                      77   \n",
       "1  1616393416359.wav                      74   \n",
       "2  1616393243323.wav                      74   \n",
       "3  1616393116755.wav                      72   \n",
       "4  1616393043673.wav                      73   \n",
       "\n",
       "                                  Noise-Noise_Source  Noise-Location-Latitude  \\\n",
       "0                   car-OR-truck Bodaboda-Motorcycle                      NaN   \n",
       "1  car-OR-truck Bodaboda-Motorcycle Motor-vehicle...                      NaN   \n",
       "2                   car-OR-truck Bodaboda-Motorcycle                 0.334595   \n",
       "3  car-OR-truck Bodaboda-Motorcycle Siren-Ambulan...                      NaN   \n",
       "4                   car-OR-truck Bodaboda-Motorcycle                 0.334469   \n",
       "\n",
       "   Noise-Location-Longitude  Noise-Location-Altitude  Noise-Location-Accuracy  \\\n",
       "0                       NaN                      NaN                      NaN   \n",
       "1                       NaN                      NaN                      NaN   \n",
       "2                 32.576640              1191.934471                    5.900   \n",
       "3                       NaN                      NaN                      NaN   \n",
       "4                 32.572933              1181.085361                  131.596   \n",
       "\n",
       "         Noise-Image Noise-Comment                                        KEY  \\\n",
       "0                NaN           NaN  uuid:e194bce3-7d5f-4242-9bc7-38a6ea7e09e6   \n",
       "1                NaN           NaN  uuid:b903d0b4-1988-489a-9ccf-76249beddf34   \n",
       "2  1616393301375.jpg           NaN  uuid:5c704881-0695-4ae0-b2f9-08b51de89e58   \n",
       "3  1616393202949.jpg           NaN  uuid:69935434-dce0-4037-b67b-dd8c0fb6fd97   \n",
       "4                NaN           NaN  uuid:fdc60743-31ad-4182-9e1b-9108eb5177fc   \n",
       "\n",
       "   SubmitterID SubmitterName  AttachmentsPresent  AttachmentsExpected  Status  \\\n",
       "0           18   ltnabukeera                   1                    1     NaN   \n",
       "1           18   ltnabukeera                   1                    1     NaN   \n",
       "2           18   ltnabukeera                   2                    2     NaN   \n",
       "3           18   ltnabukeera                   2                    2     NaN   \n",
       "4           18   ltnabukeera                   1                    1     NaN   \n",
       "\n",
       "                                          Audio-link  \n",
       "0  https://sunbirdainoise.mooo.com/v1/projects/2/...  \n",
       "1  https://sunbirdainoise.mooo.com/v1/projects/2/...  \n",
       "2  https://sunbirdainoise.mooo.com/v1/projects/2/...  \n",
       "3  https://sunbirdainoise.mooo.com/v1/projects/2/...  \n",
       "4  https://sunbirdainoise.mooo.com/v1/projects/2/...  "
      ],
      "text/html": "<div>\n<style scoped>\n    .dataframe tbody tr th:only-of-type {\n        vertical-align: middle;\n    }\n\n    .dataframe tbody tr th {\n        vertical-align: top;\n    }\n\n    .dataframe thead th {\n        text-align: right;\n    }\n</style>\n<table border=\"1\" class=\"dataframe\">\n  <thead>\n    <tr style=\"text-align: right;\">\n      <th></th>\n      <th>SubmissionDate</th>\n      <th>meta-instanceID</th>\n      <th>Noise-audio</th>\n      <th>Noise-Noise_Measurement</th>\n      <th>Noise-Noise_Source</th>\n      <th>Noise-Location-Latitude</th>\n      <th>Noise-Location-Longitude</th>\n      <th>Noise-Location-Altitude</th>\n      <th>Noise-Location-Accuracy</th>\n      <th>Noise-Image</th>\n      <th>Noise-Comment</th>\n      <th>KEY</th>\n      <th>SubmitterID</th>\n      <th>SubmitterName</th>\n      <th>AttachmentsPresent</th>\n      <th>AttachmentsExpected</th>\n      <th>Status</th>\n      <th>Audio-link</th>\n    </tr>\n  </thead>\n  <tbody>\n    <tr>\n      <th>0</th>\n      <td>2021-03-22T06:13:51.550Z</td>\n      <td>uuid:e194bce3-7d5f-4242-9bc7-38a6ea7e09e6</td>\n      <td>1616393560391.wav</td>\n      <td>77</td>\n      <td>car-OR-truck Bodaboda-Motorcycle</td>\n      <td>NaN</td>\n      <td>NaN</td>\n      <td>NaN</td>\n      <td>NaN</td>\n      <td>NaN</td>\n      <td>NaN</td>\n      <td>uuid:e194bce3-7d5f-4242-9bc7-38a6ea7e09e6</td>\n      <td>18</td>\n      <td>ltnabukeera</td>\n      <td>1</td>\n      <td>1</td>\n      <td>NaN</td>\n      <td>https://sunbirdainoise.mooo.com/v1/projects/2/...</td>\n    </tr>\n    <tr>\n      <th>1</th>\n      <td>2021-03-22T06:11:36.197Z</td>\n      <td>uuid:b903d0b4-1988-489a-9ccf-76249beddf34</td>\n      <td>1616393416359.wav</td>\n      <td>74</td>\n      <td>car-OR-truck Bodaboda-Motorcycle Motor-vehicle...</td>\n      <td>NaN</td>\n      <td>NaN</td>\n      <td>NaN</td>\n      <td>NaN</td>\n      <td>NaN</td>\n      <td>NaN</td>\n      <td>uuid:b903d0b4-1988-489a-9ccf-76249beddf34</td>\n      <td>18</td>\n      <td>ltnabukeera</td>\n      <td>1</td>\n      <td>1</td>\n      <td>NaN</td>\n      <td>https://sunbirdainoise.mooo.com/v1/projects/2/...</td>\n    </tr>\n    <tr>\n      <th>2</th>\n      <td>2021-03-22T06:09:02.219Z</td>\n      <td>uuid:5c704881-0695-4ae0-b2f9-08b51de89e58</td>\n      <td>1616393243323.wav</td>\n      <td>74</td>\n      <td>car-OR-truck Bodaboda-Motorcycle</td>\n      <td>0.334595</td>\n      <td>32.576640</td>\n      <td>1191.934471</td>\n      <td>5.900</td>\n      <td>1616393301375.jpg</td>\n      <td>NaN</td>\n      <td>uuid:5c704881-0695-4ae0-b2f9-08b51de89e58</td>\n      <td>18</td>\n      <td>ltnabukeera</td>\n      <td>2</td>\n      <td>2</td>\n      <td>NaN</td>\n      <td>https://sunbirdainoise.mooo.com/v1/projects/2/...</td>\n    </tr>\n    <tr>\n      <th>3</th>\n      <td>2021-03-22T06:07:26.916Z</td>\n      <td>uuid:69935434-dce0-4037-b67b-dd8c0fb6fd97</td>\n      <td>1616393116755.wav</td>\n      <td>72</td>\n      <td>car-OR-truck Bodaboda-Motorcycle Siren-Ambulan...</td>\n      <td>NaN</td>\n      <td>NaN</td>\n      <td>NaN</td>\n      <td>NaN</td>\n      <td>1616393202949.jpg</td>\n      <td>NaN</td>\n      <td>uuid:69935434-dce0-4037-b67b-dd8c0fb6fd97</td>\n      <td>18</td>\n      <td>ltnabukeera</td>\n      <td>2</td>\n      <td>2</td>\n      <td>NaN</td>\n      <td>https://sunbirdainoise.mooo.com/v1/projects/2/...</td>\n    </tr>\n    <tr>\n      <th>4</th>\n      <td>2021-03-22T06:04:43.743Z</td>\n      <td>uuid:fdc60743-31ad-4182-9e1b-9108eb5177fc</td>\n      <td>1616393043673.wav</td>\n      <td>73</td>\n      <td>car-OR-truck Bodaboda-Motorcycle</td>\n      <td>0.334469</td>\n      <td>32.572933</td>\n      <td>1181.085361</td>\n      <td>131.596</td>\n      <td>NaN</td>\n      <td>NaN</td>\n      <td>uuid:fdc60743-31ad-4182-9e1b-9108eb5177fc</td>\n      <td>18</td>\n      <td>ltnabukeera</td>\n      <td>1</td>\n      <td>1</td>\n      <td>NaN</td>\n      <td>https://sunbirdainoise.mooo.com/v1/projects/2/...</td>\n    </tr>\n  </tbody>\n</table>\n</div>"
     },
     "metadata": {},
     "execution_count": 83
    }
   ],
   "source": [
    "noise_df.head()"
   ]
  },
  {
   "cell_type": "code",
   "execution_count": 86,
   "metadata": {},
   "outputs": [
    {
     "output_type": "execute_result",
     "data": {
      "text/plain": [
       "'https://sunbirdainoise.mooo.com/v1/projects/2/forms/build_Noise-Capture-Form_1614927723/submissions/uuid:e194bce3-7d5f-4242-9bc7-38a6ea7e09e6/attachments/1616393560391.wav'"
      ]
     },
     "metadata": {},
     "execution_count": 86
    }
   ],
   "source": [
    "noise_df.loc[0,'Audio-link' ]"
   ]
  },
  {
   "cell_type": "code",
   "execution_count": 87,
   "metadata": {},
   "outputs": [],
   "source": [
    "noise_df.to_csv('noise-data.csv')"
   ]
  },
  {
   "cell_type": "code",
   "execution_count": null,
   "metadata": {},
   "outputs": [],
   "source": []
  }
 ]
}