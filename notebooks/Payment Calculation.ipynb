{
 "cells": [
  {
   "cell_type": "code",
   "execution_count": 1,
   "metadata": {},
   "outputs": [],
   "source": [
    "import pandas as pd"
   ]
  },
  {
   "cell_type": "code",
   "execution_count": 4,
   "metadata": {},
   "outputs": [
    {
     "output_type": "execute_result",
     "data": {
      "text/plain": [
       "             SubmissionDate                            meta-instanceID  \\\n",
       "0  2021-05-11T08:37:41.048Z  uuid:712eaceb-6db9-48ea-b30e-8e3e84fc6eed   \n",
       "1  2021-05-11T08:35:00.760Z  uuid:38b41886-e829-47e3-ba13-017177814ecf   \n",
       "2  2021-05-11T08:34:02.456Z  uuid:edbd0213-2f50-47be-b428-d1d65b8e5512   \n",
       "3  2021-05-11T08:32:52.160Z  uuid:e8878499-952a-451c-8dd8-e8ed979c6634   \n",
       "4  2021-05-11T08:32:21.520Z  uuid:da603e33-191b-4df4-9ea2-a3b97e0b4126   \n",
       "\n",
       "         Noise-audio Noise-Noise_Measurement Noise-Noise_Source  \\\n",
       "0  1620722225878.wav                      39                  1   \n",
       "1  1620722055926.wav                      47                  1   \n",
       "2  1620721997424.wav                      45                  1   \n",
       "3  1620721940576.wav                      41                  3   \n",
       "4  1620721903500.wav                      51                  2   \n",
       "\n",
       "  Noise-Noise_Source_2 Noise-Noise_Source_3  Noise-Location-Latitude  \\\n",
       "0                    1                  NaN                 0.324642   \n",
       "1                    1                    3                 0.324513   \n",
       "2                    2                  NaN                 0.323674   \n",
       "3                    1                    1                 0.323645   \n",
       "4                    3                    1                 0.323056   \n",
       "\n",
       "   Noise-Location-Longitude  Noise-Location-Altitude  Noise-Location-Accuracy  \\\n",
       "0                 32.597234              1155.914385                      3.9   \n",
       "1                 32.596615              1160.629906                      5.0   \n",
       "2                 32.596399              1154.346624                      4.7   \n",
       "3                 32.596386              1174.393947                      4.5   \n",
       "4                 32.596286              1167.755577                      4.9   \n",
       "\n",
       "  Noise-Comment                                        KEY  SubmitterID  \\\n",
       "0           NaN  uuid:712eaceb-6db9-48ea-b30e-8e3e84fc6eed           40   \n",
       "1           NaN  uuid:38b41886-e829-47e3-ba13-017177814ecf           40   \n",
       "2           NaN  uuid:edbd0213-2f50-47be-b428-d1d65b8e5512           40   \n",
       "3           NaN  uuid:e8878499-952a-451c-8dd8-e8ed979c6634           40   \n",
       "4           NaN  uuid:da603e33-191b-4df4-9ea2-a3b97e0b4126           40   \n",
       "\n",
       "  SubmitterName  AttachmentsPresent  AttachmentsExpected  Status  \n",
       "0          musa                   1                    1     NaN  \n",
       "1          musa                   1                    1     NaN  \n",
       "2          musa                   1                    1     NaN  \n",
       "3          musa                   1                    1     NaN  \n",
       "4          musa                   1                    1     NaN  "
      ],
      "text/html": "<div>\n<style scoped>\n    .dataframe tbody tr th:only-of-type {\n        vertical-align: middle;\n    }\n\n    .dataframe tbody tr th {\n        vertical-align: top;\n    }\n\n    .dataframe thead th {\n        text-align: right;\n    }\n</style>\n<table border=\"1\" class=\"dataframe\">\n  <thead>\n    <tr style=\"text-align: right;\">\n      <th></th>\n      <th>SubmissionDate</th>\n      <th>meta-instanceID</th>\n      <th>Noise-audio</th>\n      <th>Noise-Noise_Measurement</th>\n      <th>Noise-Noise_Source</th>\n      <th>Noise-Noise_Source_2</th>\n      <th>Noise-Noise_Source_3</th>\n      <th>Noise-Location-Latitude</th>\n      <th>Noise-Location-Longitude</th>\n      <th>Noise-Location-Altitude</th>\n      <th>Noise-Location-Accuracy</th>\n      <th>Noise-Comment</th>\n      <th>KEY</th>\n      <th>SubmitterID</th>\n      <th>SubmitterName</th>\n      <th>AttachmentsPresent</th>\n      <th>AttachmentsExpected</th>\n      <th>Status</th>\n    </tr>\n  </thead>\n  <tbody>\n    <tr>\n      <th>0</th>\n      <td>2021-05-11T08:37:41.048Z</td>\n      <td>uuid:712eaceb-6db9-48ea-b30e-8e3e84fc6eed</td>\n      <td>1620722225878.wav</td>\n      <td>39</td>\n      <td>1</td>\n      <td>1</td>\n      <td>NaN</td>\n      <td>0.324642</td>\n      <td>32.597234</td>\n      <td>1155.914385</td>\n      <td>3.9</td>\n      <td>NaN</td>\n      <td>uuid:712eaceb-6db9-48ea-b30e-8e3e84fc6eed</td>\n      <td>40</td>\n      <td>musa</td>\n      <td>1</td>\n      <td>1</td>\n      <td>NaN</td>\n    </tr>\n    <tr>\n      <th>1</th>\n      <td>2021-05-11T08:35:00.760Z</td>\n      <td>uuid:38b41886-e829-47e3-ba13-017177814ecf</td>\n      <td>1620722055926.wav</td>\n      <td>47</td>\n      <td>1</td>\n      <td>1</td>\n      <td>3</td>\n      <td>0.324513</td>\n      <td>32.596615</td>\n      <td>1160.629906</td>\n      <td>5.0</td>\n      <td>NaN</td>\n      <td>uuid:38b41886-e829-47e3-ba13-017177814ecf</td>\n      <td>40</td>\n      <td>musa</td>\n      <td>1</td>\n      <td>1</td>\n      <td>NaN</td>\n    </tr>\n    <tr>\n      <th>2</th>\n      <td>2021-05-11T08:34:02.456Z</td>\n      <td>uuid:edbd0213-2f50-47be-b428-d1d65b8e5512</td>\n      <td>1620721997424.wav</td>\n      <td>45</td>\n      <td>1</td>\n      <td>2</td>\n      <td>NaN</td>\n      <td>0.323674</td>\n      <td>32.596399</td>\n      <td>1154.346624</td>\n      <td>4.7</td>\n      <td>NaN</td>\n      <td>uuid:edbd0213-2f50-47be-b428-d1d65b8e5512</td>\n      <td>40</td>\n      <td>musa</td>\n      <td>1</td>\n      <td>1</td>\n      <td>NaN</td>\n    </tr>\n    <tr>\n      <th>3</th>\n      <td>2021-05-11T08:32:52.160Z</td>\n      <td>uuid:e8878499-952a-451c-8dd8-e8ed979c6634</td>\n      <td>1620721940576.wav</td>\n      <td>41</td>\n      <td>3</td>\n      <td>1</td>\n      <td>1</td>\n      <td>0.323645</td>\n      <td>32.596386</td>\n      <td>1174.393947</td>\n      <td>4.5</td>\n      <td>NaN</td>\n      <td>uuid:e8878499-952a-451c-8dd8-e8ed979c6634</td>\n      <td>40</td>\n      <td>musa</td>\n      <td>1</td>\n      <td>1</td>\n      <td>NaN</td>\n    </tr>\n    <tr>\n      <th>4</th>\n      <td>2021-05-11T08:32:21.520Z</td>\n      <td>uuid:da603e33-191b-4df4-9ea2-a3b97e0b4126</td>\n      <td>1620721903500.wav</td>\n      <td>51</td>\n      <td>2</td>\n      <td>3</td>\n      <td>1</td>\n      <td>0.323056</td>\n      <td>32.596286</td>\n      <td>1167.755577</td>\n      <td>4.9</td>\n      <td>NaN</td>\n      <td>uuid:da603e33-191b-4df4-9ea2-a3b97e0b4126</td>\n      <td>40</td>\n      <td>musa</td>\n      <td>1</td>\n      <td>1</td>\n      <td>NaN</td>\n    </tr>\n  </tbody>\n</table>\n</div>"
     },
     "metadata": {},
     "execution_count": 4
    }
   ],
   "source": [
    "noise_data = pd.read_csv('../build_Noise-Capture-Form_1614927724.csv')\n",
    "noise_data.head()"
   ]
  },
  {
   "cell_type": "code",
   "execution_count": 11,
   "metadata": {},
   "outputs": [
    {
     "output_type": "execute_result",
     "data": {
      "text/plain": [
       "                    SubmissionDate                            meta-instanceID  \\\n",
       "0 2021-05-11 08:37:41.048000+00:00  uuid:712eaceb-6db9-48ea-b30e-8e3e84fc6eed   \n",
       "1 2021-05-11 08:35:00.760000+00:00  uuid:38b41886-e829-47e3-ba13-017177814ecf   \n",
       "2 2021-05-11 08:34:02.456000+00:00  uuid:edbd0213-2f50-47be-b428-d1d65b8e5512   \n",
       "3 2021-05-11 08:32:52.160000+00:00  uuid:e8878499-952a-451c-8dd8-e8ed979c6634   \n",
       "4 2021-05-11 08:32:21.520000+00:00  uuid:da603e33-191b-4df4-9ea2-a3b97e0b4126   \n",
       "\n",
       "         Noise-audio Noise-Noise_Measurement Noise-Noise_Source  \\\n",
       "0  1620722225878.wav                      39                  1   \n",
       "1  1620722055926.wav                      47                  1   \n",
       "2  1620721997424.wav                      45                  1   \n",
       "3  1620721940576.wav                      41                  3   \n",
       "4  1620721903500.wav                      51                  2   \n",
       "\n",
       "  Noise-Noise_Source_2 Noise-Noise_Source_3  Noise-Location-Latitude  \\\n",
       "0                    1                  NaN                 0.324642   \n",
       "1                    1                    3                 0.324513   \n",
       "2                    2                  NaN                 0.323674   \n",
       "3                    1                    1                 0.323645   \n",
       "4                    3                    1                 0.323056   \n",
       "\n",
       "   Noise-Location-Longitude  Noise-Location-Altitude  Noise-Location-Accuracy  \\\n",
       "0                 32.597234              1155.914385                      3.9   \n",
       "1                 32.596615              1160.629906                      5.0   \n",
       "2                 32.596399              1154.346624                      4.7   \n",
       "3                 32.596386              1174.393947                      4.5   \n",
       "4                 32.596286              1167.755577                      4.9   \n",
       "\n",
       "  Noise-Comment                                        KEY  SubmitterID  \\\n",
       "0           NaN  uuid:712eaceb-6db9-48ea-b30e-8e3e84fc6eed           40   \n",
       "1           NaN  uuid:38b41886-e829-47e3-ba13-017177814ecf           40   \n",
       "2           NaN  uuid:edbd0213-2f50-47be-b428-d1d65b8e5512           40   \n",
       "3           NaN  uuid:e8878499-952a-451c-8dd8-e8ed979c6634           40   \n",
       "4           NaN  uuid:da603e33-191b-4df4-9ea2-a3b97e0b4126           40   \n",
       "\n",
       "  SubmitterName  AttachmentsPresent  AttachmentsExpected  Status  \n",
       "0          musa                   1                    1     NaN  \n",
       "1          musa                   1                    1     NaN  \n",
       "2          musa                   1                    1     NaN  \n",
       "3          musa                   1                    1     NaN  \n",
       "4          musa                   1                    1     NaN  "
      ],
      "text/html": "<div>\n<style scoped>\n    .dataframe tbody tr th:only-of-type {\n        vertical-align: middle;\n    }\n\n    .dataframe tbody tr th {\n        vertical-align: top;\n    }\n\n    .dataframe thead th {\n        text-align: right;\n    }\n</style>\n<table border=\"1\" class=\"dataframe\">\n  <thead>\n    <tr style=\"text-align: right;\">\n      <th></th>\n      <th>SubmissionDate</th>\n      <th>meta-instanceID</th>\n      <th>Noise-audio</th>\n      <th>Noise-Noise_Measurement</th>\n      <th>Noise-Noise_Source</th>\n      <th>Noise-Noise_Source_2</th>\n      <th>Noise-Noise_Source_3</th>\n      <th>Noise-Location-Latitude</th>\n      <th>Noise-Location-Longitude</th>\n      <th>Noise-Location-Altitude</th>\n      <th>Noise-Location-Accuracy</th>\n      <th>Noise-Comment</th>\n      <th>KEY</th>\n      <th>SubmitterID</th>\n      <th>SubmitterName</th>\n      <th>AttachmentsPresent</th>\n      <th>AttachmentsExpected</th>\n      <th>Status</th>\n    </tr>\n  </thead>\n  <tbody>\n    <tr>\n      <th>0</th>\n      <td>2021-05-11 08:37:41.048000+00:00</td>\n      <td>uuid:712eaceb-6db9-48ea-b30e-8e3e84fc6eed</td>\n      <td>1620722225878.wav</td>\n      <td>39</td>\n      <td>1</td>\n      <td>1</td>\n      <td>NaN</td>\n      <td>0.324642</td>\n      <td>32.597234</td>\n      <td>1155.914385</td>\n      <td>3.9</td>\n      <td>NaN</td>\n      <td>uuid:712eaceb-6db9-48ea-b30e-8e3e84fc6eed</td>\n      <td>40</td>\n      <td>musa</td>\n      <td>1</td>\n      <td>1</td>\n      <td>NaN</td>\n    </tr>\n    <tr>\n      <th>1</th>\n      <td>2021-05-11 08:35:00.760000+00:00</td>\n      <td>uuid:38b41886-e829-47e3-ba13-017177814ecf</td>\n      <td>1620722055926.wav</td>\n      <td>47</td>\n      <td>1</td>\n      <td>1</td>\n      <td>3</td>\n      <td>0.324513</td>\n      <td>32.596615</td>\n      <td>1160.629906</td>\n      <td>5.0</td>\n      <td>NaN</td>\n      <td>uuid:38b41886-e829-47e3-ba13-017177814ecf</td>\n      <td>40</td>\n      <td>musa</td>\n      <td>1</td>\n      <td>1</td>\n      <td>NaN</td>\n    </tr>\n    <tr>\n      <th>2</th>\n      <td>2021-05-11 08:34:02.456000+00:00</td>\n      <td>uuid:edbd0213-2f50-47be-b428-d1d65b8e5512</td>\n      <td>1620721997424.wav</td>\n      <td>45</td>\n      <td>1</td>\n      <td>2</td>\n      <td>NaN</td>\n      <td>0.323674</td>\n      <td>32.596399</td>\n      <td>1154.346624</td>\n      <td>4.7</td>\n      <td>NaN</td>\n      <td>uuid:edbd0213-2f50-47be-b428-d1d65b8e5512</td>\n      <td>40</td>\n      <td>musa</td>\n      <td>1</td>\n      <td>1</td>\n      <td>NaN</td>\n    </tr>\n    <tr>\n      <th>3</th>\n      <td>2021-05-11 08:32:52.160000+00:00</td>\n      <td>uuid:e8878499-952a-451c-8dd8-e8ed979c6634</td>\n      <td>1620721940576.wav</td>\n      <td>41</td>\n      <td>3</td>\n      <td>1</td>\n      <td>1</td>\n      <td>0.323645</td>\n      <td>32.596386</td>\n      <td>1174.393947</td>\n      <td>4.5</td>\n      <td>NaN</td>\n      <td>uuid:e8878499-952a-451c-8dd8-e8ed979c6634</td>\n      <td>40</td>\n      <td>musa</td>\n      <td>1</td>\n      <td>1</td>\n      <td>NaN</td>\n    </tr>\n    <tr>\n      <th>4</th>\n      <td>2021-05-11 08:32:21.520000+00:00</td>\n      <td>uuid:da603e33-191b-4df4-9ea2-a3b97e0b4126</td>\n      <td>1620721903500.wav</td>\n      <td>51</td>\n      <td>2</td>\n      <td>3</td>\n      <td>1</td>\n      <td>0.323056</td>\n      <td>32.596286</td>\n      <td>1167.755577</td>\n      <td>4.9</td>\n      <td>NaN</td>\n      <td>uuid:da603e33-191b-4df4-9ea2-a3b97e0b4126</td>\n      <td>40</td>\n      <td>musa</td>\n      <td>1</td>\n      <td>1</td>\n      <td>NaN</td>\n    </tr>\n  </tbody>\n</table>\n</div>"
     },
     "metadata": {},
     "execution_count": 11
    }
   ],
   "source": [
    "noise_data[\"SubmissionDate\"] = pd.to_datetime(noise_data[\"SubmissionDate\"], format=\"%Y-%m-%d\")\n",
    "noise_data.head()"
   ]
  },
  {
   "cell_type": "code",
   "execution_count": 5,
   "metadata": {},
   "outputs": [
    {
     "output_type": "execute_result",
     "data": {
      "text/plain": [
       "['musa',\n",
       " 'njoan',\n",
       " 'njohn',\n",
       " 'ncrispus',\n",
       " 'oisaac',\n",
       " 'cuthbert',\n",
       " 'ojulius',\n",
       " 'ostephen',\n",
       " 'snsumba',\n",
       " 'djoshua']"
      ]
     },
     "metadata": {},
     "execution_count": 5
    }
   ],
   "source": [
    "submitters = list(noise_data['SubmitterName'].unique())\n",
    "submitters"
   ]
  },
  {
   "cell_type": "code",
   "execution_count": 20,
   "metadata": {},
   "outputs": [],
   "source": [
    "def calculate_payment(submitter, date_range):\n",
    "    # noise_data = noise_data[noise_data['SubmissionDate'] == date_range]\n",
    "    num_submissions = noise_data[noise_data['SubmitterName'] == submitter].shape[0]\n",
    "    payment = num_submissions * 300\n",
    "    return payment"
   ]
  },
  {
   "cell_type": "code",
   "execution_count": 21,
   "metadata": {},
   "outputs": [
    {
     "data": {
      "text/plain": [
       "305400"
      ]
     },
     "execution_count": 21,
     "metadata": {},
     "output_type": "execute_result"
    }
   ],
   "source": [
    "calculate_payment('musa', '')"
   ]
  },
  {
   "cell_type": "code",
   "execution_count": 22,
   "metadata": {},
   "outputs": [
    {
     "name": "stdout",
     "output_type": "stream",
     "text": [
      "305400\n",
      "56100\n",
      "9900\n",
      "3600\n",
      "247200\n",
      "113100\n",
      "43500\n",
      "600\n",
      "1500\n",
      "600\n"
     ]
    }
   ],
   "source": [
    "for submitter in submitters:\n",
    "    payments = calculate_payment(submitter, '')\n",
    "    print(payments)"
   ]
  },
  {
   "cell_type": "code",
   "execution_count": null,
   "metadata": {},
   "outputs": [],
   "source": []
  }
 ],
 "metadata": {
  "kernelspec": {
   "display_name": "Python 3",
   "language": "python",
   "name": "python3"
  },
  "language_info": {
   "codemirror_mode": {
    "name": "ipython",
    "version": 3
   },
   "file_extension": ".py",
   "mimetype": "text/x-python",
   "name": "python",
   "nbconvert_exporter": "python",
   "pygments_lexer": "ipython3",
   "version": "3.7.6"
  }
 },
 "nbformat": 4,
 "nbformat_minor": 4
}