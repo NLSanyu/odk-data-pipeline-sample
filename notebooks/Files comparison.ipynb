{
 "cells": [
  {
   "cell_type": "code",
   "execution_count": 37,
   "metadata": {},
   "outputs": [],
   "source": [
    "import pandas as pd\n",
    "import numpy as np"
   ]
  },
  {
   "cell_type": "code",
   "execution_count": 38,
   "metadata": {},
   "outputs": [
    {
     "data": {
      "text/plain": "(37644,)"
     },
     "execution_count": 38,
     "metadata": {},
     "output_type": "execute_result"
    }
   ],
   "source": [
    "final_files = pd.read_csv(\"final_files.txt\", sep=\" \", header=None) \n",
    "final_files = final_files.squeeze()\n",
    "final_files.shape"
   ]
  },
  {
   "cell_type": "code",
   "execution_count": 39,
   "metadata": {},
   "outputs": [
    {
     "data": {
      "text/plain": "(37627,)"
     },
     "execution_count": 39,
     "metadata": {},
     "output_type": "execute_result"
    }
   ],
   "source": [
    "media2_files = pd.read_csv(\"media2.txt\", sep=\" \", header=None)\n",
    "media2_files = media2_files.squeeze()\n",
    "media2_files.shape"
   ]
  },
  {
   "cell_type": "code",
   "execution_count": 40,
   "metadata": {},
   "outputs": [
    {
     "data": {
      "text/plain": "array(['1623046173732.wav', '1623046133933.wav', '1623046096609.wav', ...,\n       '1620387900910.wav', '1620387908948.wav', '1620387733233.wav'],\n      dtype=object)"
     },
     "execution_count": 40,
     "metadata": {},
     "output_type": "execute_result"
    }
   ],
   "source": [
    "final_files = final_files.to_numpy()\n",
    "final_files"
   ]
  },
  {
   "cell_type": "code",
   "execution_count": 41,
   "metadata": {},
   "outputs": [
    {
     "data": {
      "text/plain": "array(['1620387733233.wav', '1620387900910.wav', '1620387908948.wav', ...,\n       '1623046096609.wav', '1623046133933.wav', '1623046173732.wav'],\n      dtype=object)"
     },
     "execution_count": 41,
     "metadata": {},
     "output_type": "execute_result"
    }
   ],
   "source": [
    "media2_files = media2_files.to_numpy()\n",
    "media2_files"
   ]
  },
  {
   "cell_type": "code",
   "execution_count": 42,
   "metadata": {},
   "outputs": [
    {
     "data": {
      "text/plain": "(0,)"
     },
     "execution_count": 42,
     "metadata": {},
     "output_type": "execute_result"
    }
   ],
   "source": [
    "diff = np.setdiff1d(final_files, media2_files)\n",
    "diff.shape"
   ]
  },
  {
   "cell_type": "code",
   "execution_count": 43,
   "metadata": {},
   "outputs": [
    {
     "data": {
      "text/plain": "(0,)"
     },
     "execution_count": 43,
     "metadata": {},
     "output_type": "execute_result"
    }
   ],
   "source": [
    "diff = np.setxor1d(final_files, media2_files)\n",
    "diff.shape"
   ]
  },
  {
   "cell_type": "code",
   "execution_count": 44,
   "metadata": {},
   "outputs": [
    {
     "data": {
      "text/plain": "0    True\n1    True\n2    True\n3    True\n4    True\ndtype: bool"
     },
     "execution_count": 44,
     "metadata": {},
     "output_type": "execute_result"
    }
   ],
   "source": [
    "diff = np.in1d(final_files, media2_files)\n",
    "diff = pd.Series(diff)\n",
    "diff.head()"
   ]
  },
  {
   "cell_type": "code",
   "execution_count": 32,
   "metadata": {},
   "outputs": [
    {
     "data": {
      "text/plain": "array(['1623046173732.wav', '1623046133933.wav', '1623046096609.wav', ...,\n       '1620387900910.wav', '1620387908948.wav', '1620387733233.wav'],\n      dtype=object)"
     },
     "execution_count": 32,
     "metadata": {},
     "output_type": "execute_result"
    }
   ],
   "source": [
    "difference = final_files[diff]\n",
    "difference"
   ]
  },
  {
   "cell_type": "code",
   "execution_count": 31,
   "metadata": {},
   "outputs": [],
   "source": [
    "diff2 = pd.DataFrame(difference)\n",
    "diff2.head(10)\n",
    "diff2.to_csv('diff2.csv')"
   ]
  },
  {
   "cell_type": "code",
   "execution_count": null,
   "metadata": {},
   "outputs": [],
   "source": []
  }
 ],
 "metadata": {
  "kernelspec": {
   "display_name": "Python 3",
   "language": "python",
   "name": "python3"
  },
  "language_info": {
   "codemirror_mode": {
    "name": "ipython",
    "version": 3
   },
   "file_extension": ".py",
   "mimetype": "text/x-python",
   "name": "python",
   "nbconvert_exporter": "python",
   "pygments_lexer": "ipython3",
   "version": "3.7.6"
  }
 },
 "nbformat": 4,
 "nbformat_minor": 4
}